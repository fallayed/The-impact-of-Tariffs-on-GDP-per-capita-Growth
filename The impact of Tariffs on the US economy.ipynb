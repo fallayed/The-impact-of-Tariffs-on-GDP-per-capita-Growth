{
 "cells": [
  {
   "cell_type": "markdown",
   "id": "c5b6f87f",
   "metadata": {},
   "source": [
    "### Section 1: Business Understanding\n",
    "Tariffs being the main subject of any economic discussion since th begining of the year, let's look at the impact it has had on the U.S. econmy from 2000 to 2024. Also determine the potencial impact of tariffs will have on the economy going forward."
   ]
  },
  {
   "cell_type": "markdown",
   "id": "90a7c669",
   "metadata": {},
   "source": [
    "### Question 1: Do tariffs affect direstly GDP per capita growth?\n",
    "\n",
    "### Question 2: What is the impact of tariffs on the labor market?\n",
    "\n",
    "### Question 3: What is the relation between Inflation and GDP per capita growth?"
   ]
  },
  {
   "cell_type": "markdown",
   "id": "fa6ca4ba",
   "metadata": {},
   "source": [
    "### 1.Lets import the necessary Library for the Project"
   ]
  },
  {
   "cell_type": "code",
   "execution_count": 1,
   "id": "4a366f6d",
   "metadata": {},
   "outputs": [],
   "source": [
    "#Let's Import the Necessary Library\n",
    "import pandas as pd   #Library for Data manipulation and Analysis\n",
    "import numpy as np    #Library for Data manipulation\n",
    "import matplotlib.pyplot as plt #Library for Data visualization\n",
    "import seaborn as sns  #Library for data visualization\n",
    "# Libraries to get different metric scores \n",
    "from sklearn import metrics\n",
    "from sklearn.metrics import (\n",
    "    confusion_matrix,\n",
    "    accuracy_score,\n",
    "    precision_score,\n",
    "    recall_score,\n",
    "    f1_score,\n",
    ")"
   ]
  },
  {
   "cell_type": "code",
   "execution_count": 2,
   "id": "edf2a698",
   "metadata": {},
   "outputs": [
    {
     "name": "stdout",
     "output_type": "stream",
     "text": [
      "Requirement already satisfied: sklearn in /opt/anaconda3/lib/python3.8/site-packages (0.0)\n",
      "Requirement already satisfied: scikit-learn in /opt/anaconda3/lib/python3.8/site-packages (from sklearn) (1.1.1)\n",
      "Requirement already satisfied: joblib>=1.0.0 in /opt/anaconda3/lib/python3.8/site-packages (from scikit-learn->sklearn) (1.0.1)\n",
      "Requirement already satisfied: scipy>=1.3.2 in /opt/anaconda3/lib/python3.8/site-packages (from scikit-learn->sklearn) (1.6.2)\n",
      "Requirement already satisfied: numpy>=1.17.3 in /opt/anaconda3/lib/python3.8/site-packages (from scikit-learn->sklearn) (1.20.1)\n",
      "Requirement already satisfied: threadpoolctl>=2.0.0 in /opt/anaconda3/lib/python3.8/site-packages (from scikit-learn->sklearn) (2.1.0)\n",
      "Note: you may need to restart the kernel to use updated packages.\n"
     ]
    }
   ],
   "source": [
    "#Lets install Sklearn\n",
    "%pip install sklearn"
   ]
  },
  {
   "cell_type": "code",
   "execution_count": 3,
   "id": "335a773f",
   "metadata": {},
   "outputs": [],
   "source": [
    "from sklearn import metrics #Library for Models score\n",
    "from sklearn.tree import DecisionTreeClassifier #Library for Decision tree model\n",
    "from sklearn.linear_model  import LinearRegression #Library for Linear regression model"
   ]
  },
  {
   "cell_type": "code",
   "execution_count": 4,
   "id": "40128981",
   "metadata": {},
   "outputs": [],
   "source": [
    "from sklearn.metrics import (\n",
    "    f1_score,\n",
    "    accuracy_score,\n",
    "    recall_score,\n",
    "    precision_score,\n",
    "    confusion_matrix,\n",
    "    roc_auc_score,\n",
    "    plot_confusion_matrix) #Library for model scoring"
   ]
  },
  {
   "cell_type": "markdown",
   "id": "c0807871",
   "metadata": {},
   "source": [
    "### Section 2: Data Understanding"
   ]
  },
  {
   "cell_type": "code",
   "execution_count": 5,
   "id": "e49512a4",
   "metadata": {},
   "outputs": [],
   "source": [
    "#Lets Load the data\n",
    "data = pd.read_csv('US_Economy.csv') #path to data"
   ]
  },
  {
   "cell_type": "code",
   "execution_count": 6,
   "id": "aef79aa3",
   "metadata": {},
   "outputs": [
    {
     "data": {
      "text/html": [
       "<div>\n",
       "<style scoped>\n",
       "    .dataframe tbody tr th:only-of-type {\n",
       "        vertical-align: middle;\n",
       "    }\n",
       "\n",
       "    .dataframe tbody tr th {\n",
       "        vertical-align: top;\n",
       "    }\n",
       "\n",
       "    .dataframe thead th {\n",
       "        text-align: right;\n",
       "    }\n",
       "</style>\n",
       "<table border=\"1\" class=\"dataframe\">\n",
       "  <thead>\n",
       "    <tr style=\"text-align: right;\">\n",
       "      <th></th>\n",
       "      <th>Country Name</th>\n",
       "      <th>Country Code</th>\n",
       "      <th>Time</th>\n",
       "      <th>Time Code</th>\n",
       "      <th>Inflation, consumer prices (annual %) [FP.CPI.TOTL.ZG]</th>\n",
       "      <th>Unemployment, total (% of total labor force) (national estimate) [SL.UEM.TOTL.NE.ZS]</th>\n",
       "      <th>Tariff rate, applied, weighted mean, all products (%) [TM.TAX.MRCH.WM.AR.ZS]</th>\n",
       "      <th>Labor force, total [SL.TLF.TOTL.IN]</th>\n",
       "      <th>GDP per capita growth (annual %) [NY.GDP.PCAP.KD.ZG]</th>\n",
       "    </tr>\n",
       "  </thead>\n",
       "  <tbody>\n",
       "    <tr>\n",
       "      <th>0</th>\n",
       "      <td>United States</td>\n",
       "      <td>USA</td>\n",
       "      <td>2000.0</td>\n",
       "      <td>YR2000</td>\n",
       "      <td>3.376857</td>\n",
       "      <td>3.992</td>\n",
       "      <td>2.1</td>\n",
       "      <td>147139887.0</td>\n",
       "      <td>2.925863</td>\n",
       "    </tr>\n",
       "    <tr>\n",
       "      <th>1</th>\n",
       "      <td>United States</td>\n",
       "      <td>USA</td>\n",
       "      <td>2001.0</td>\n",
       "      <td>YR2001</td>\n",
       "      <td>2.826171</td>\n",
       "      <td>4.731</td>\n",
       "      <td>2.11</td>\n",
       "      <td>148213470.0</td>\n",
       "      <td>-0.038732</td>\n",
       "    </tr>\n",
       "    <tr>\n",
       "      <th>2</th>\n",
       "      <td>United States</td>\n",
       "      <td>USA</td>\n",
       "      <td>2002.0</td>\n",
       "      <td>YR2002</td>\n",
       "      <td>1.586032</td>\n",
       "      <td>5.783</td>\n",
       "      <td>2.16</td>\n",
       "      <td>149241895.0</td>\n",
       "      <td>0.761237</td>\n",
       "    </tr>\n",
       "    <tr>\n",
       "      <th>3</th>\n",
       "      <td>United States</td>\n",
       "      <td>USA</td>\n",
       "      <td>2003.0</td>\n",
       "      <td>YR2003</td>\n",
       "      <td>2.270095</td>\n",
       "      <td>5.989</td>\n",
       "      <td>1.96</td>\n",
       "      <td>149992325.0</td>\n",
       "      <td>1.915882</td>\n",
       "    </tr>\n",
       "    <tr>\n",
       "      <th>4</th>\n",
       "      <td>United States</td>\n",
       "      <td>USA</td>\n",
       "      <td>2004.0</td>\n",
       "      <td>YR2004</td>\n",
       "      <td>2.677237</td>\n",
       "      <td>5.529</td>\n",
       "      <td>1.79</td>\n",
       "      <td>151218126.0</td>\n",
       "      <td>2.891111</td>\n",
       "    </tr>\n",
       "  </tbody>\n",
       "</table>\n",
       "</div>"
      ],
      "text/plain": [
       "    Country Name Country Code    Time Time Code  \\\n",
       "0  United States          USA  2000.0    YR2000   \n",
       "1  United States          USA  2001.0    YR2001   \n",
       "2  United States          USA  2002.0    YR2002   \n",
       "3  United States          USA  2003.0    YR2003   \n",
       "4  United States          USA  2004.0    YR2004   \n",
       "\n",
       "   Inflation, consumer prices (annual %) [FP.CPI.TOTL.ZG]  \\\n",
       "0                                           3.376857        \n",
       "1                                           2.826171        \n",
       "2                                           1.586032        \n",
       "3                                           2.270095        \n",
       "4                                           2.677237        \n",
       "\n",
       "   Unemployment, total (% of total labor force) (national estimate) [SL.UEM.TOTL.NE.ZS]  \\\n",
       "0                                              3.992                                      \n",
       "1                                              4.731                                      \n",
       "2                                              5.783                                      \n",
       "3                                              5.989                                      \n",
       "4                                              5.529                                      \n",
       "\n",
       "  Tariff rate, applied, weighted mean, all products (%) [TM.TAX.MRCH.WM.AR.ZS]  \\\n",
       "0                                                2.1                             \n",
       "1                                               2.11                             \n",
       "2                                               2.16                             \n",
       "3                                               1.96                             \n",
       "4                                               1.79                             \n",
       "\n",
       "   Labor force, total [SL.TLF.TOTL.IN]  \\\n",
       "0                          147139887.0   \n",
       "1                          148213470.0   \n",
       "2                          149241895.0   \n",
       "3                          149992325.0   \n",
       "4                          151218126.0   \n",
       "\n",
       "   GDP per capita growth (annual %) [NY.GDP.PCAP.KD.ZG]  \n",
       "0                                           2.925863     \n",
       "1                                          -0.038732     \n",
       "2                                           0.761237     \n",
       "3                                           1.915882     \n",
       "4                                           2.891111     "
      ]
     },
     "execution_count": 6,
     "metadata": {},
     "output_type": "execute_result"
    }
   ],
   "source": [
    "data.head() #Looking at the data"
   ]
  },
  {
   "cell_type": "markdown",
   "id": "f1f805cb",
   "metadata": {},
   "source": [
    "### Section 3: Data Preparation"
   ]
  },
  {
   "cell_type": "code",
   "execution_count": 7,
   "id": "db3aba22",
   "metadata": {},
   "outputs": [],
   "source": [
    "#function to change the data input for the GDP per Capita\n",
    "def f(GDP_per_capita_growth_cat):\n",
    "    if GDP_per_capita_growth_cat < 0:  #Changing the the GDP per capita that below 0 to decline\n",
    "         return 'decline'\n",
    "    elif GDP_per_capita_growth_cat > 0: #Changing the the GDP per capita that above 0 to Growth\n",
    "        return 'Growth'\n",
    "    else:\n",
    "        return 'other' #Anything else return other\n",
    "    \n",
    "\n",
    "#Applying the function\n",
    "data['GDP_per_capita_growth_cat'] = data['GDP per capita growth (annual %) [NY.GDP.PCAP.KD.ZG]'].apply(f)"
   ]
  },
  {
   "cell_type": "code",
   "execution_count": 8,
   "id": "4b195781",
   "metadata": {},
   "outputs": [],
   "source": [
    "#Changing GDP_per_capita_growth_cat column data type\n",
    "#This will help with our analysis as the category data type helps with decision tree and XGB model\n",
    "data['GDP_per_capita_growth_cat'] = data['GDP_per_capita_growth_cat'].astype('category')"
   ]
  },
  {
   "cell_type": "code",
   "execution_count": 9,
   "id": "55f87942",
   "metadata": {},
   "outputs": [
    {
     "data": {
      "text/html": [
       "<div>\n",
       "<style scoped>\n",
       "    .dataframe tbody tr th:only-of-type {\n",
       "        vertical-align: middle;\n",
       "    }\n",
       "\n",
       "    .dataframe tbody tr th {\n",
       "        vertical-align: top;\n",
       "    }\n",
       "\n",
       "    .dataframe thead th {\n",
       "        text-align: right;\n",
       "    }\n",
       "</style>\n",
       "<table border=\"1\" class=\"dataframe\">\n",
       "  <thead>\n",
       "    <tr style=\"text-align: right;\">\n",
       "      <th></th>\n",
       "      <th>Country Name</th>\n",
       "      <th>Country Code</th>\n",
       "      <th>Time</th>\n",
       "      <th>Time Code</th>\n",
       "      <th>Inflation, consumer prices (annual %) [FP.CPI.TOTL.ZG]</th>\n",
       "      <th>Unemployment, total (% of total labor force) (national estimate) [SL.UEM.TOTL.NE.ZS]</th>\n",
       "      <th>Tariff rate, applied, weighted mean, all products (%) [TM.TAX.MRCH.WM.AR.ZS]</th>\n",
       "      <th>Labor force, total [SL.TLF.TOTL.IN]</th>\n",
       "      <th>GDP per capita growth (annual %) [NY.GDP.PCAP.KD.ZG]</th>\n",
       "      <th>GDP_per_capita_growth_cat</th>\n",
       "    </tr>\n",
       "  </thead>\n",
       "  <tbody>\n",
       "    <tr>\n",
       "      <th>0</th>\n",
       "      <td>United States</td>\n",
       "      <td>USA</td>\n",
       "      <td>2000.0</td>\n",
       "      <td>YR2000</td>\n",
       "      <td>3.376857</td>\n",
       "      <td>3.992</td>\n",
       "      <td>2.1</td>\n",
       "      <td>147139887.0</td>\n",
       "      <td>2.925863</td>\n",
       "      <td>Growth</td>\n",
       "    </tr>\n",
       "    <tr>\n",
       "      <th>1</th>\n",
       "      <td>United States</td>\n",
       "      <td>USA</td>\n",
       "      <td>2001.0</td>\n",
       "      <td>YR2001</td>\n",
       "      <td>2.826171</td>\n",
       "      <td>4.731</td>\n",
       "      <td>2.11</td>\n",
       "      <td>148213470.0</td>\n",
       "      <td>-0.038732</td>\n",
       "      <td>decline</td>\n",
       "    </tr>\n",
       "    <tr>\n",
       "      <th>2</th>\n",
       "      <td>United States</td>\n",
       "      <td>USA</td>\n",
       "      <td>2002.0</td>\n",
       "      <td>YR2002</td>\n",
       "      <td>1.586032</td>\n",
       "      <td>5.783</td>\n",
       "      <td>2.16</td>\n",
       "      <td>149241895.0</td>\n",
       "      <td>0.761237</td>\n",
       "      <td>Growth</td>\n",
       "    </tr>\n",
       "    <tr>\n",
       "      <th>3</th>\n",
       "      <td>United States</td>\n",
       "      <td>USA</td>\n",
       "      <td>2003.0</td>\n",
       "      <td>YR2003</td>\n",
       "      <td>2.270095</td>\n",
       "      <td>5.989</td>\n",
       "      <td>1.96</td>\n",
       "      <td>149992325.0</td>\n",
       "      <td>1.915882</td>\n",
       "      <td>Growth</td>\n",
       "    </tr>\n",
       "    <tr>\n",
       "      <th>4</th>\n",
       "      <td>United States</td>\n",
       "      <td>USA</td>\n",
       "      <td>2004.0</td>\n",
       "      <td>YR2004</td>\n",
       "      <td>2.677237</td>\n",
       "      <td>5.529</td>\n",
       "      <td>1.79</td>\n",
       "      <td>151218126.0</td>\n",
       "      <td>2.891111</td>\n",
       "      <td>Growth</td>\n",
       "    </tr>\n",
       "  </tbody>\n",
       "</table>\n",
       "</div>"
      ],
      "text/plain": [
       "    Country Name Country Code    Time Time Code  \\\n",
       "0  United States          USA  2000.0    YR2000   \n",
       "1  United States          USA  2001.0    YR2001   \n",
       "2  United States          USA  2002.0    YR2002   \n",
       "3  United States          USA  2003.0    YR2003   \n",
       "4  United States          USA  2004.0    YR2004   \n",
       "\n",
       "   Inflation, consumer prices (annual %) [FP.CPI.TOTL.ZG]  \\\n",
       "0                                           3.376857        \n",
       "1                                           2.826171        \n",
       "2                                           1.586032        \n",
       "3                                           2.270095        \n",
       "4                                           2.677237        \n",
       "\n",
       "   Unemployment, total (% of total labor force) (national estimate) [SL.UEM.TOTL.NE.ZS]  \\\n",
       "0                                              3.992                                      \n",
       "1                                              4.731                                      \n",
       "2                                              5.783                                      \n",
       "3                                              5.989                                      \n",
       "4                                              5.529                                      \n",
       "\n",
       "  Tariff rate, applied, weighted mean, all products (%) [TM.TAX.MRCH.WM.AR.ZS]  \\\n",
       "0                                                2.1                             \n",
       "1                                               2.11                             \n",
       "2                                               2.16                             \n",
       "3                                               1.96                             \n",
       "4                                               1.79                             \n",
       "\n",
       "   Labor force, total [SL.TLF.TOTL.IN]  \\\n",
       "0                          147139887.0   \n",
       "1                          148213470.0   \n",
       "2                          149241895.0   \n",
       "3                          149992325.0   \n",
       "4                          151218126.0   \n",
       "\n",
       "   GDP per capita growth (annual %) [NY.GDP.PCAP.KD.ZG]  \\\n",
       "0                                           2.925863      \n",
       "1                                          -0.038732      \n",
       "2                                           0.761237      \n",
       "3                                           1.915882      \n",
       "4                                           2.891111      \n",
       "\n",
       "  GDP_per_capita_growth_cat  \n",
       "0                    Growth  \n",
       "1                   decline  \n",
       "2                    Growth  \n",
       "3                    Growth  \n",
       "4                    Growth  "
      ]
     },
     "execution_count": 9,
     "metadata": {},
     "output_type": "execute_result"
    }
   ],
   "source": [
    "#Lets Look at the Data\n",
    "data.head()"
   ]
  },
  {
   "cell_type": "code",
   "execution_count": 10,
   "id": "a5cd4d31",
   "metadata": {},
   "outputs": [],
   "source": [
    "#Lets set our target value to be the GDP per Capita column.\n",
    "#As we will do analysis to determine the impact of Tarrifs on the GDP per Capita Growth\n",
    "data['target'] = data['GDP_per_capita_growth_cat']"
   ]
  },
  {
   "cell_type": "code",
   "execution_count": 11,
   "id": "4c9838f5",
   "metadata": {},
   "outputs": [
    {
     "data": {
      "text/html": [
       "<div>\n",
       "<style scoped>\n",
       "    .dataframe tbody tr th:only-of-type {\n",
       "        vertical-align: middle;\n",
       "    }\n",
       "\n",
       "    .dataframe tbody tr th {\n",
       "        vertical-align: top;\n",
       "    }\n",
       "\n",
       "    .dataframe thead th {\n",
       "        text-align: right;\n",
       "    }\n",
       "</style>\n",
       "<table border=\"1\" class=\"dataframe\">\n",
       "  <thead>\n",
       "    <tr style=\"text-align: right;\">\n",
       "      <th></th>\n",
       "      <th>Country Name</th>\n",
       "      <th>Country Code</th>\n",
       "      <th>Time</th>\n",
       "      <th>Time Code</th>\n",
       "      <th>Inflation, consumer prices (annual %) [FP.CPI.TOTL.ZG]</th>\n",
       "      <th>Unemployment, total (% of total labor force) (national estimate) [SL.UEM.TOTL.NE.ZS]</th>\n",
       "      <th>Tariff rate, applied, weighted mean, all products (%) [TM.TAX.MRCH.WM.AR.ZS]</th>\n",
       "      <th>Labor force, total [SL.TLF.TOTL.IN]</th>\n",
       "      <th>GDP per capita growth (annual %) [NY.GDP.PCAP.KD.ZG]</th>\n",
       "      <th>GDP_per_capita_growth_cat</th>\n",
       "      <th>target</th>\n",
       "    </tr>\n",
       "  </thead>\n",
       "  <tbody>\n",
       "    <tr>\n",
       "      <th>0</th>\n",
       "      <td>United States</td>\n",
       "      <td>USA</td>\n",
       "      <td>2000.0</td>\n",
       "      <td>YR2000</td>\n",
       "      <td>3.376857</td>\n",
       "      <td>3.992</td>\n",
       "      <td>2.1</td>\n",
       "      <td>147139887.0</td>\n",
       "      <td>2.925863</td>\n",
       "      <td>Growth</td>\n",
       "      <td>Growth</td>\n",
       "    </tr>\n",
       "    <tr>\n",
       "      <th>1</th>\n",
       "      <td>United States</td>\n",
       "      <td>USA</td>\n",
       "      <td>2001.0</td>\n",
       "      <td>YR2001</td>\n",
       "      <td>2.826171</td>\n",
       "      <td>4.731</td>\n",
       "      <td>2.11</td>\n",
       "      <td>148213470.0</td>\n",
       "      <td>-0.038732</td>\n",
       "      <td>decline</td>\n",
       "      <td>decline</td>\n",
       "    </tr>\n",
       "    <tr>\n",
       "      <th>2</th>\n",
       "      <td>United States</td>\n",
       "      <td>USA</td>\n",
       "      <td>2002.0</td>\n",
       "      <td>YR2002</td>\n",
       "      <td>1.586032</td>\n",
       "      <td>5.783</td>\n",
       "      <td>2.16</td>\n",
       "      <td>149241895.0</td>\n",
       "      <td>0.761237</td>\n",
       "      <td>Growth</td>\n",
       "      <td>Growth</td>\n",
       "    </tr>\n",
       "    <tr>\n",
       "      <th>3</th>\n",
       "      <td>United States</td>\n",
       "      <td>USA</td>\n",
       "      <td>2003.0</td>\n",
       "      <td>YR2003</td>\n",
       "      <td>2.270095</td>\n",
       "      <td>5.989</td>\n",
       "      <td>1.96</td>\n",
       "      <td>149992325.0</td>\n",
       "      <td>1.915882</td>\n",
       "      <td>Growth</td>\n",
       "      <td>Growth</td>\n",
       "    </tr>\n",
       "    <tr>\n",
       "      <th>4</th>\n",
       "      <td>United States</td>\n",
       "      <td>USA</td>\n",
       "      <td>2004.0</td>\n",
       "      <td>YR2004</td>\n",
       "      <td>2.677237</td>\n",
       "      <td>5.529</td>\n",
       "      <td>1.79</td>\n",
       "      <td>151218126.0</td>\n",
       "      <td>2.891111</td>\n",
       "      <td>Growth</td>\n",
       "      <td>Growth</td>\n",
       "    </tr>\n",
       "    <tr>\n",
       "      <th>5</th>\n",
       "      <td>United States</td>\n",
       "      <td>USA</td>\n",
       "      <td>2005.0</td>\n",
       "      <td>YR2005</td>\n",
       "      <td>3.392747</td>\n",
       "      <td>5.084</td>\n",
       "      <td>1.75</td>\n",
       "      <td>153120588.0</td>\n",
       "      <td>2.534111</td>\n",
       "      <td>Growth</td>\n",
       "      <td>Growth</td>\n",
       "    </tr>\n",
       "    <tr>\n",
       "      <th>6</th>\n",
       "      <td>United States</td>\n",
       "      <td>USA</td>\n",
       "      <td>2006.0</td>\n",
       "      <td>YR2006</td>\n",
       "      <td>3.225944</td>\n",
       "      <td>4.623</td>\n",
       "      <td>1.7</td>\n",
       "      <td>155267046.0</td>\n",
       "      <td>1.798199</td>\n",
       "      <td>Growth</td>\n",
       "      <td>Growth</td>\n",
       "    </tr>\n",
       "    <tr>\n",
       "      <th>7</th>\n",
       "      <td>United States</td>\n",
       "      <td>USA</td>\n",
       "      <td>2007.0</td>\n",
       "      <td>YR2007</td>\n",
       "      <td>2.852672</td>\n",
       "      <td>4.622</td>\n",
       "      <td>1.55</td>\n",
       "      <td>156588966.0</td>\n",
       "      <td>1.038344</td>\n",
       "      <td>Growth</td>\n",
       "      <td>Growth</td>\n",
       "    </tr>\n",
       "    <tr>\n",
       "      <th>8</th>\n",
       "      <td>United States</td>\n",
       "      <td>USA</td>\n",
       "      <td>2008.0</td>\n",
       "      <td>YR2008</td>\n",
       "      <td>3.839100</td>\n",
       "      <td>5.784</td>\n",
       "      <td>1.58</td>\n",
       "      <td>158272885.0</td>\n",
       "      <td>-0.828888</td>\n",
       "      <td>decline</td>\n",
       "      <td>decline</td>\n",
       "    </tr>\n",
       "    <tr>\n",
       "      <th>9</th>\n",
       "      <td>United States</td>\n",
       "      <td>USA</td>\n",
       "      <td>2009.0</td>\n",
       "      <td>YR2009</td>\n",
       "      <td>-0.355546</td>\n",
       "      <td>9.254</td>\n",
       "      <td>1.71</td>\n",
       "      <td>158353162.0</td>\n",
       "      <td>-3.426832</td>\n",
       "      <td>decline</td>\n",
       "      <td>decline</td>\n",
       "    </tr>\n",
       "    <tr>\n",
       "      <th>10</th>\n",
       "      <td>United States</td>\n",
       "      <td>USA</td>\n",
       "      <td>2010.0</td>\n",
       "      <td>YR2010</td>\n",
       "      <td>1.640043</td>\n",
       "      <td>9.633</td>\n",
       "      <td>1.66</td>\n",
       "      <td>158330168.0</td>\n",
       "      <td>1.829924</td>\n",
       "      <td>Growth</td>\n",
       "      <td>Growth</td>\n",
       "    </tr>\n",
       "    <tr>\n",
       "      <th>11</th>\n",
       "      <td>United States</td>\n",
       "      <td>USA</td>\n",
       "      <td>2011.0</td>\n",
       "      <td>YR2011</td>\n",
       "      <td>3.156842</td>\n",
       "      <td>8.949</td>\n",
       "      <td>1.67</td>\n",
       "      <td>158537150.0</td>\n",
       "      <td>0.762796</td>\n",
       "      <td>Growth</td>\n",
       "      <td>Growth</td>\n",
       "    </tr>\n",
       "    <tr>\n",
       "      <th>12</th>\n",
       "      <td>United States</td>\n",
       "      <td>USA</td>\n",
       "      <td>2012.0</td>\n",
       "      <td>YR2012</td>\n",
       "      <td>2.069337</td>\n",
       "      <td>8.069</td>\n",
       "      <td>1.67</td>\n",
       "      <td>159682753.0</td>\n",
       "      <td>1.475706</td>\n",
       "      <td>Growth</td>\n",
       "      <td>Growth</td>\n",
       "    </tr>\n",
       "    <tr>\n",
       "      <th>13</th>\n",
       "      <td>United States</td>\n",
       "      <td>USA</td>\n",
       "      <td>2013.0</td>\n",
       "      <td>YR2013</td>\n",
       "      <td>1.464833</td>\n",
       "      <td>7.375</td>\n",
       "      <td>1.67</td>\n",
       "      <td>160132463.0</td>\n",
       "      <td>1.348163</td>\n",
       "      <td>Growth</td>\n",
       "      <td>Growth</td>\n",
       "    </tr>\n",
       "    <tr>\n",
       "      <th>14</th>\n",
       "      <td>United States</td>\n",
       "      <td>USA</td>\n",
       "      <td>2014.0</td>\n",
       "      <td>YR2014</td>\n",
       "      <td>1.622223</td>\n",
       "      <td>6.168</td>\n",
       "      <td>1.69</td>\n",
       "      <td>160876331.0</td>\n",
       "      <td>1.710945</td>\n",
       "      <td>Growth</td>\n",
       "      <td>Growth</td>\n",
       "    </tr>\n",
       "    <tr>\n",
       "      <th>15</th>\n",
       "      <td>United States</td>\n",
       "      <td>USA</td>\n",
       "      <td>2015.0</td>\n",
       "      <td>YR2015</td>\n",
       "      <td>0.118627</td>\n",
       "      <td>5.280</td>\n",
       "      <td>1.69</td>\n",
       "      <td>161927418.0</td>\n",
       "      <td>2.127411</td>\n",
       "      <td>Growth</td>\n",
       "      <td>Growth</td>\n",
       "    </tr>\n",
       "    <tr>\n",
       "      <th>16</th>\n",
       "      <td>United States</td>\n",
       "      <td>USA</td>\n",
       "      <td>2016.0</td>\n",
       "      <td>YR2016</td>\n",
       "      <td>1.261583</td>\n",
       "      <td>4.869</td>\n",
       "      <td>1.65</td>\n",
       "      <td>163886456.0</td>\n",
       "      <td>1.022666</td>\n",
       "      <td>Growth</td>\n",
       "      <td>Growth</td>\n",
       "    </tr>\n",
       "    <tr>\n",
       "      <th>17</th>\n",
       "      <td>United States</td>\n",
       "      <td>USA</td>\n",
       "      <td>2017.0</td>\n",
       "      <td>YR2017</td>\n",
       "      <td>2.130110</td>\n",
       "      <td>4.355</td>\n",
       "      <td>1.66</td>\n",
       "      <td>165597316.0</td>\n",
       "      <td>1.750141</td>\n",
       "      <td>Growth</td>\n",
       "      <td>Growth</td>\n",
       "    </tr>\n",
       "    <tr>\n",
       "      <th>18</th>\n",
       "      <td>United States</td>\n",
       "      <td>USA</td>\n",
       "      <td>2018.0</td>\n",
       "      <td>YR2018</td>\n",
       "      <td>2.442583</td>\n",
       "      <td>3.896</td>\n",
       "      <td>1.59</td>\n",
       "      <td>166999339.0</td>\n",
       "      <td>2.364442</td>\n",
       "      <td>Growth</td>\n",
       "      <td>Growth</td>\n",
       "    </tr>\n",
       "    <tr>\n",
       "      <th>19</th>\n",
       "      <td>United States</td>\n",
       "      <td>USA</td>\n",
       "      <td>2019.0</td>\n",
       "      <td>YR2019</td>\n",
       "      <td>1.812210</td>\n",
       "      <td>3.669</td>\n",
       "      <td>13.78</td>\n",
       "      <td>168920514.0</td>\n",
       "      <td>2.056766</td>\n",
       "      <td>Growth</td>\n",
       "      <td>Growth</td>\n",
       "    </tr>\n",
       "    <tr>\n",
       "      <th>20</th>\n",
       "      <td>United States</td>\n",
       "      <td>USA</td>\n",
       "      <td>2020.0</td>\n",
       "      <td>YR2020</td>\n",
       "      <td>1.233584</td>\n",
       "      <td>8.055</td>\n",
       "      <td>1.52</td>\n",
       "      <td>166565059.0</td>\n",
       "      <td>-2.561807</td>\n",
       "      <td>decline</td>\n",
       "      <td>decline</td>\n",
       "    </tr>\n",
       "    <tr>\n",
       "      <th>21</th>\n",
       "      <td>United States</td>\n",
       "      <td>USA</td>\n",
       "      <td>2021.0</td>\n",
       "      <td>YR2021</td>\n",
       "      <td>4.697859</td>\n",
       "      <td>5.349</td>\n",
       "      <td>1.47</td>\n",
       "      <td>167182196.0</td>\n",
       "      <td>5.888341</td>\n",
       "      <td>Growth</td>\n",
       "      <td>Growth</td>\n",
       "    </tr>\n",
       "    <tr>\n",
       "      <th>22</th>\n",
       "      <td>United States</td>\n",
       "      <td>USA</td>\n",
       "      <td>2022.0</td>\n",
       "      <td>YR2022</td>\n",
       "      <td>8.002800</td>\n",
       "      <td>3.650</td>\n",
       "      <td>1.49</td>\n",
       "      <td>169494100.0</td>\n",
       "      <td>1.923862</td>\n",
       "      <td>Growth</td>\n",
       "      <td>Growth</td>\n",
       "    </tr>\n",
       "    <tr>\n",
       "      <th>23</th>\n",
       "      <td>United States</td>\n",
       "      <td>USA</td>\n",
       "      <td>2023.0</td>\n",
       "      <td>YR2023</td>\n",
       "      <td>4.116338</td>\n",
       "      <td>3.638</td>\n",
       "      <td>..</td>\n",
       "      <td>172300802.0</td>\n",
       "      <td>2.035600</td>\n",
       "      <td>Growth</td>\n",
       "      <td>Growth</td>\n",
       "    </tr>\n",
       "    <tr>\n",
       "      <th>24</th>\n",
       "      <td>United States</td>\n",
       "      <td>USA</td>\n",
       "      <td>2024.0</td>\n",
       "      <td>YR2024</td>\n",
       "      <td>2.949525</td>\n",
       "      <td>4.022</td>\n",
       "      <td>..</td>\n",
       "      <td>174173594.0</td>\n",
       "      <td>1.797350</td>\n",
       "      <td>Growth</td>\n",
       "      <td>Growth</td>\n",
       "    </tr>\n",
       "  </tbody>\n",
       "</table>\n",
       "</div>"
      ],
      "text/plain": [
       "     Country Name Country Code    Time Time Code  \\\n",
       "0   United States          USA  2000.0    YR2000   \n",
       "1   United States          USA  2001.0    YR2001   \n",
       "2   United States          USA  2002.0    YR2002   \n",
       "3   United States          USA  2003.0    YR2003   \n",
       "4   United States          USA  2004.0    YR2004   \n",
       "5   United States          USA  2005.0    YR2005   \n",
       "6   United States          USA  2006.0    YR2006   \n",
       "7   United States          USA  2007.0    YR2007   \n",
       "8   United States          USA  2008.0    YR2008   \n",
       "9   United States          USA  2009.0    YR2009   \n",
       "10  United States          USA  2010.0    YR2010   \n",
       "11  United States          USA  2011.0    YR2011   \n",
       "12  United States          USA  2012.0    YR2012   \n",
       "13  United States          USA  2013.0    YR2013   \n",
       "14  United States          USA  2014.0    YR2014   \n",
       "15  United States          USA  2015.0    YR2015   \n",
       "16  United States          USA  2016.0    YR2016   \n",
       "17  United States          USA  2017.0    YR2017   \n",
       "18  United States          USA  2018.0    YR2018   \n",
       "19  United States          USA  2019.0    YR2019   \n",
       "20  United States          USA  2020.0    YR2020   \n",
       "21  United States          USA  2021.0    YR2021   \n",
       "22  United States          USA  2022.0    YR2022   \n",
       "23  United States          USA  2023.0    YR2023   \n",
       "24  United States          USA  2024.0    YR2024   \n",
       "\n",
       "    Inflation, consumer prices (annual %) [FP.CPI.TOTL.ZG]  \\\n",
       "0                                            3.376857        \n",
       "1                                            2.826171        \n",
       "2                                            1.586032        \n",
       "3                                            2.270095        \n",
       "4                                            2.677237        \n",
       "5                                            3.392747        \n",
       "6                                            3.225944        \n",
       "7                                            2.852672        \n",
       "8                                            3.839100        \n",
       "9                                           -0.355546        \n",
       "10                                           1.640043        \n",
       "11                                           3.156842        \n",
       "12                                           2.069337        \n",
       "13                                           1.464833        \n",
       "14                                           1.622223        \n",
       "15                                           0.118627        \n",
       "16                                           1.261583        \n",
       "17                                           2.130110        \n",
       "18                                           2.442583        \n",
       "19                                           1.812210        \n",
       "20                                           1.233584        \n",
       "21                                           4.697859        \n",
       "22                                           8.002800        \n",
       "23                                           4.116338        \n",
       "24                                           2.949525        \n",
       "\n",
       "    Unemployment, total (% of total labor force) (national estimate) [SL.UEM.TOTL.NE.ZS]  \\\n",
       "0                                               3.992                                      \n",
       "1                                               4.731                                      \n",
       "2                                               5.783                                      \n",
       "3                                               5.989                                      \n",
       "4                                               5.529                                      \n",
       "5                                               5.084                                      \n",
       "6                                               4.623                                      \n",
       "7                                               4.622                                      \n",
       "8                                               5.784                                      \n",
       "9                                               9.254                                      \n",
       "10                                              9.633                                      \n",
       "11                                              8.949                                      \n",
       "12                                              8.069                                      \n",
       "13                                              7.375                                      \n",
       "14                                              6.168                                      \n",
       "15                                              5.280                                      \n",
       "16                                              4.869                                      \n",
       "17                                              4.355                                      \n",
       "18                                              3.896                                      \n",
       "19                                              3.669                                      \n",
       "20                                              8.055                                      \n",
       "21                                              5.349                                      \n",
       "22                                              3.650                                      \n",
       "23                                              3.638                                      \n",
       "24                                              4.022                                      \n",
       "\n",
       "   Tariff rate, applied, weighted mean, all products (%) [TM.TAX.MRCH.WM.AR.ZS]  \\\n",
       "0                                                 2.1                             \n",
       "1                                                2.11                             \n",
       "2                                                2.16                             \n",
       "3                                                1.96                             \n",
       "4                                                1.79                             \n",
       "5                                                1.75                             \n",
       "6                                                 1.7                             \n",
       "7                                                1.55                             \n",
       "8                                                1.58                             \n",
       "9                                                1.71                             \n",
       "10                                               1.66                             \n",
       "11                                               1.67                             \n",
       "12                                               1.67                             \n",
       "13                                               1.67                             \n",
       "14                                               1.69                             \n",
       "15                                               1.69                             \n",
       "16                                               1.65                             \n",
       "17                                               1.66                             \n",
       "18                                               1.59                             \n",
       "19                                              13.78                             \n",
       "20                                               1.52                             \n",
       "21                                               1.47                             \n",
       "22                                               1.49                             \n",
       "23                                                 ..                             \n",
       "24                                                 ..                             \n",
       "\n",
       "    Labor force, total [SL.TLF.TOTL.IN]  \\\n",
       "0                           147139887.0   \n",
       "1                           148213470.0   \n",
       "2                           149241895.0   \n",
       "3                           149992325.0   \n",
       "4                           151218126.0   \n",
       "5                           153120588.0   \n",
       "6                           155267046.0   \n",
       "7                           156588966.0   \n",
       "8                           158272885.0   \n",
       "9                           158353162.0   \n",
       "10                          158330168.0   \n",
       "11                          158537150.0   \n",
       "12                          159682753.0   \n",
       "13                          160132463.0   \n",
       "14                          160876331.0   \n",
       "15                          161927418.0   \n",
       "16                          163886456.0   \n",
       "17                          165597316.0   \n",
       "18                          166999339.0   \n",
       "19                          168920514.0   \n",
       "20                          166565059.0   \n",
       "21                          167182196.0   \n",
       "22                          169494100.0   \n",
       "23                          172300802.0   \n",
       "24                          174173594.0   \n",
       "\n",
       "    GDP per capita growth (annual %) [NY.GDP.PCAP.KD.ZG]  \\\n",
       "0                                            2.925863      \n",
       "1                                           -0.038732      \n",
       "2                                            0.761237      \n",
       "3                                            1.915882      \n",
       "4                                            2.891111      \n",
       "5                                            2.534111      \n",
       "6                                            1.798199      \n",
       "7                                            1.038344      \n",
       "8                                           -0.828888      \n",
       "9                                           -3.426832      \n",
       "10                                           1.829924      \n",
       "11                                           0.762796      \n",
       "12                                           1.475706      \n",
       "13                                           1.348163      \n",
       "14                                           1.710945      \n",
       "15                                           2.127411      \n",
       "16                                           1.022666      \n",
       "17                                           1.750141      \n",
       "18                                           2.364442      \n",
       "19                                           2.056766      \n",
       "20                                          -2.561807      \n",
       "21                                           5.888341      \n",
       "22                                           1.923862      \n",
       "23                                           2.035600      \n",
       "24                                           1.797350      \n",
       "\n",
       "   GDP_per_capita_growth_cat   target  \n",
       "0                     Growth   Growth  \n",
       "1                    decline  decline  \n",
       "2                     Growth   Growth  \n",
       "3                     Growth   Growth  \n",
       "4                     Growth   Growth  \n",
       "5                     Growth   Growth  \n",
       "6                     Growth   Growth  \n",
       "7                     Growth   Growth  \n",
       "8                    decline  decline  \n",
       "9                    decline  decline  \n",
       "10                    Growth   Growth  \n",
       "11                    Growth   Growth  \n",
       "12                    Growth   Growth  \n",
       "13                    Growth   Growth  \n",
       "14                    Growth   Growth  \n",
       "15                    Growth   Growth  \n",
       "16                    Growth   Growth  \n",
       "17                    Growth   Growth  \n",
       "18                    Growth   Growth  \n",
       "19                    Growth   Growth  \n",
       "20                   decline  decline  \n",
       "21                    Growth   Growth  \n",
       "22                    Growth   Growth  \n",
       "23                    Growth   Growth  \n",
       "24                    Growth   Growth  "
      ]
     },
     "execution_count": 11,
     "metadata": {},
     "output_type": "execute_result"
    }
   ],
   "source": [
    "#Lets Drop the missing values as they will not be suitable for our model prediction\n",
    "#missing values would not be helpful with our analysis\n",
    "data.dropna()"
   ]
  },
  {
   "cell_type": "code",
   "execution_count": 12,
   "id": "c744ec46",
   "metadata": {},
   "outputs": [],
   "source": [
    "#The Tariffs column has some missing values. To correct this we will replace them with the mean.\n"
   ]
  },
  {
   "cell_type": "code",
   "execution_count": 13,
   "id": "26666d5f",
   "metadata": {},
   "outputs": [],
   "source": [
    "#Thru the next lines of codes we will make sure to retain our non null values in columns\n",
    "data = data[data['target'].notna()]\n",
    "data = data[data['Labor force, total [SL.TLF.TOTL.IN]'].notna()]\n",
    "data = data[data['Time'].notna()]\n",
    "data = data[data['Inflation, consumer prices (annual %) [FP.CPI.TOTL.ZG]'].notna()]\n",
    "data = data[data['Tariff rate, applied, weighted mean, all products (%) [TM.TAX.MRCH.WM.AR.ZS]'].notna()]"
   ]
  },
  {
   "cell_type": "code",
   "execution_count": 14,
   "id": "07f09494",
   "metadata": {},
   "outputs": [],
   "source": [
    "#Lets drop the columns that are not needed for our analysis\n",
    "data = data.drop('Country Name', axis=1)\n",
    "data = data.drop('Country Code', axis=1)\n",
    "data = data.drop('Time Code', axis=1)"
   ]
  },
  {
   "cell_type": "code",
   "execution_count": 15,
   "id": "bc7e3628",
   "metadata": {},
   "outputs": [
    {
     "name": "stdout",
     "output_type": "stream",
     "text": [
      "<class 'pandas.core.frame.DataFrame'>\n",
      "Int64Index: 25 entries, 0 to 24\n",
      "Data columns (total 8 columns):\n",
      " #   Column                                                                                Non-Null Count  Dtype   \n",
      "---  ------                                                                                --------------  -----   \n",
      " 0   Time                                                                                  25 non-null     float64 \n",
      " 1   Inflation, consumer prices (annual %) [FP.CPI.TOTL.ZG]                                25 non-null     float64 \n",
      " 2   Unemployment, total (% of total labor force) (national estimate) [SL.UEM.TOTL.NE.ZS]  25 non-null     float64 \n",
      " 3   Tariff rate, applied, weighted mean, all products (%) [TM.TAX.MRCH.WM.AR.ZS]          25 non-null     object  \n",
      " 4   Labor force, total [SL.TLF.TOTL.IN]                                                   25 non-null     float64 \n",
      " 5   GDP per capita growth (annual %) [NY.GDP.PCAP.KD.ZG]                                  25 non-null     float64 \n",
      " 6   GDP_per_capita_growth_cat                                                             25 non-null     category\n",
      " 7   target                                                                                25 non-null     category\n",
      "dtypes: category(2), float64(5), object(1)\n",
      "memory usage: 1.7+ KB\n"
     ]
    }
   ],
   "source": [
    "#Lets get info about the columns data type\n",
    "data.info()"
   ]
  },
  {
   "cell_type": "code",
   "execution_count": 16,
   "id": "2f335eb5",
   "metadata": {},
   "outputs": [],
   "source": [
    "#With The Tarrifs column having data type object with numeric values lets turn this column into Float\n",
    "data['Tariff rate, applied, weighted mean, all products (%) [TM.TAX.MRCH.WM.AR.ZS]'] = pd.to_numeric(data['Tariff rate, applied, weighted mean, all products (%) [TM.TAX.MRCH.WM.AR.ZS]'], errors='coerce')"
   ]
  },
  {
   "cell_type": "code",
   "execution_count": 17,
   "id": "a2ab0976",
   "metadata": {},
   "outputs": [
    {
     "name": "stdout",
     "output_type": "stream",
     "text": [
      "<class 'pandas.core.frame.DataFrame'>\n",
      "Int64Index: 25 entries, 0 to 24\n",
      "Data columns (total 8 columns):\n",
      " #   Column                                                                                Non-Null Count  Dtype   \n",
      "---  ------                                                                                --------------  -----   \n",
      " 0   Time                                                                                  25 non-null     float64 \n",
      " 1   Inflation, consumer prices (annual %) [FP.CPI.TOTL.ZG]                                25 non-null     float64 \n",
      " 2   Unemployment, total (% of total labor force) (national estimate) [SL.UEM.TOTL.NE.ZS]  25 non-null     float64 \n",
      " 3   Tariff rate, applied, weighted mean, all products (%) [TM.TAX.MRCH.WM.AR.ZS]          23 non-null     float64 \n",
      " 4   Labor force, total [SL.TLF.TOTL.IN]                                                   25 non-null     float64 \n",
      " 5   GDP per capita growth (annual %) [NY.GDP.PCAP.KD.ZG]                                  25 non-null     float64 \n",
      " 6   GDP_per_capita_growth_cat                                                             25 non-null     category\n",
      " 7   target                                                                                25 non-null     category\n",
      "dtypes: category(2), float64(6)\n",
      "memory usage: 1.7 KB\n"
     ]
    }
   ],
   "source": [
    "#Lets get info about the columns data type\n",
    "data.info()"
   ]
  },
  {
   "cell_type": "code",
   "execution_count": 18,
   "id": "6e50cc5f",
   "metadata": {},
   "outputs": [],
   "source": [
    "#With our target value being the GP Per Capita growth column, lets drop that column to not create a duplication\n",
    "data = data.drop('GDP_per_capita_growth_cat', axis=1)"
   ]
  },
  {
   "cell_type": "code",
   "execution_count": 19,
   "id": "631e1c84",
   "metadata": {},
   "outputs": [
    {
     "data": {
      "text/html": [
       "<div>\n",
       "<style scoped>\n",
       "    .dataframe tbody tr th:only-of-type {\n",
       "        vertical-align: middle;\n",
       "    }\n",
       "\n",
       "    .dataframe tbody tr th {\n",
       "        vertical-align: top;\n",
       "    }\n",
       "\n",
       "    .dataframe thead th {\n",
       "        text-align: right;\n",
       "    }\n",
       "</style>\n",
       "<table border=\"1\" class=\"dataframe\">\n",
       "  <thead>\n",
       "    <tr style=\"text-align: right;\">\n",
       "      <th></th>\n",
       "      <th>Time</th>\n",
       "      <th>Inflation, consumer prices (annual %) [FP.CPI.TOTL.ZG]</th>\n",
       "      <th>Unemployment, total (% of total labor force) (national estimate) [SL.UEM.TOTL.NE.ZS]</th>\n",
       "      <th>Tariff rate, applied, weighted mean, all products (%) [TM.TAX.MRCH.WM.AR.ZS]</th>\n",
       "      <th>Labor force, total [SL.TLF.TOTL.IN]</th>\n",
       "      <th>GDP per capita growth (annual %) [NY.GDP.PCAP.KD.ZG]</th>\n",
       "      <th>target</th>\n",
       "    </tr>\n",
       "  </thead>\n",
       "  <tbody>\n",
       "    <tr>\n",
       "      <th>0</th>\n",
       "      <td>2000.0</td>\n",
       "      <td>3.376857</td>\n",
       "      <td>3.992</td>\n",
       "      <td>2.10</td>\n",
       "      <td>147139887.0</td>\n",
       "      <td>2.925863</td>\n",
       "      <td>Growth</td>\n",
       "    </tr>\n",
       "    <tr>\n",
       "      <th>1</th>\n",
       "      <td>2001.0</td>\n",
       "      <td>2.826171</td>\n",
       "      <td>4.731</td>\n",
       "      <td>2.11</td>\n",
       "      <td>148213470.0</td>\n",
       "      <td>-0.038732</td>\n",
       "      <td>decline</td>\n",
       "    </tr>\n",
       "    <tr>\n",
       "      <th>2</th>\n",
       "      <td>2002.0</td>\n",
       "      <td>1.586032</td>\n",
       "      <td>5.783</td>\n",
       "      <td>2.16</td>\n",
       "      <td>149241895.0</td>\n",
       "      <td>0.761237</td>\n",
       "      <td>Growth</td>\n",
       "    </tr>\n",
       "    <tr>\n",
       "      <th>3</th>\n",
       "      <td>2003.0</td>\n",
       "      <td>2.270095</td>\n",
       "      <td>5.989</td>\n",
       "      <td>1.96</td>\n",
       "      <td>149992325.0</td>\n",
       "      <td>1.915882</td>\n",
       "      <td>Growth</td>\n",
       "    </tr>\n",
       "    <tr>\n",
       "      <th>4</th>\n",
       "      <td>2004.0</td>\n",
       "      <td>2.677237</td>\n",
       "      <td>5.529</td>\n",
       "      <td>1.79</td>\n",
       "      <td>151218126.0</td>\n",
       "      <td>2.891111</td>\n",
       "      <td>Growth</td>\n",
       "    </tr>\n",
       "  </tbody>\n",
       "</table>\n",
       "</div>"
      ],
      "text/plain": [
       "     Time  Inflation, consumer prices (annual %) [FP.CPI.TOTL.ZG]  \\\n",
       "0  2000.0                                           3.376857        \n",
       "1  2001.0                                           2.826171        \n",
       "2  2002.0                                           1.586032        \n",
       "3  2003.0                                           2.270095        \n",
       "4  2004.0                                           2.677237        \n",
       "\n",
       "   Unemployment, total (% of total labor force) (national estimate) [SL.UEM.TOTL.NE.ZS]  \\\n",
       "0                                              3.992                                      \n",
       "1                                              4.731                                      \n",
       "2                                              5.783                                      \n",
       "3                                              5.989                                      \n",
       "4                                              5.529                                      \n",
       "\n",
       "   Tariff rate, applied, weighted mean, all products (%) [TM.TAX.MRCH.WM.AR.ZS]  \\\n",
       "0                                               2.10                              \n",
       "1                                               2.11                              \n",
       "2                                               2.16                              \n",
       "3                                               1.96                              \n",
       "4                                               1.79                              \n",
       "\n",
       "   Labor force, total [SL.TLF.TOTL.IN]  \\\n",
       "0                          147139887.0   \n",
       "1                          148213470.0   \n",
       "2                          149241895.0   \n",
       "3                          149992325.0   \n",
       "4                          151218126.0   \n",
       "\n",
       "   GDP per capita growth (annual %) [NY.GDP.PCAP.KD.ZG]   target  \n",
       "0                                           2.925863      Growth  \n",
       "1                                          -0.038732     decline  \n",
       "2                                           0.761237      Growth  \n",
       "3                                           1.915882      Growth  \n",
       "4                                           2.891111      Growth  "
      ]
     },
     "execution_count": 19,
     "metadata": {},
     "output_type": "execute_result"
    }
   ],
   "source": [
    "#Lets look at the data again\n",
    "data.head()"
   ]
  },
  {
   "cell_type": "code",
   "execution_count": 20,
   "id": "8dd0a373",
   "metadata": {},
   "outputs": [
    {
     "data": {
      "text/plain": [
       "(25, 7)"
      ]
     },
     "execution_count": 20,
     "metadata": {},
     "output_type": "execute_result"
    }
   ],
   "source": [
    "#lets look at the Data shape\n",
    "data.shape"
   ]
  },
  {
   "cell_type": "markdown",
   "id": "2245292d",
   "metadata": {},
   "source": [
    "### Let's rename the Columns"
   ]
  },
  {
   "cell_type": "code",
   "execution_count": 21,
   "id": "15afb509",
   "metadata": {},
   "outputs": [],
   "source": [
    "data.rename(columns={'Inflation, consumer prices (annual %) [FP.CPI.TOTL.ZG]': 'Inflation_rate', 'Unemployment, total (% of total labor force) (national estimate) [SL.UEM.TOTL.NE.ZS]': 'Unemployment_rate', 'Tariff rate, applied, weighted mean, all products (%) [TM.TAX.MRCH.WM.AR.ZS]': 'Tariffs', 'Labor force, total [SL.TLF.TOTL.IN]': 'Labor_force', 'GDP per capita growth (annual %) [NY.GDP.PCAP.KD.ZG]': 'GDP_per_capita Groth_rate'}, inplace=True)"
   ]
  },
  {
   "cell_type": "code",
   "execution_count": 22,
   "id": "5cbc66d0",
   "metadata": {},
   "outputs": [
    {
     "data": {
      "text/html": [
       "<div>\n",
       "<style scoped>\n",
       "    .dataframe tbody tr th:only-of-type {\n",
       "        vertical-align: middle;\n",
       "    }\n",
       "\n",
       "    .dataframe tbody tr th {\n",
       "        vertical-align: top;\n",
       "    }\n",
       "\n",
       "    .dataframe thead th {\n",
       "        text-align: right;\n",
       "    }\n",
       "</style>\n",
       "<table border=\"1\" class=\"dataframe\">\n",
       "  <thead>\n",
       "    <tr style=\"text-align: right;\">\n",
       "      <th></th>\n",
       "      <th>count</th>\n",
       "      <th>mean</th>\n",
       "      <th>std</th>\n",
       "      <th>min</th>\n",
       "      <th>25%</th>\n",
       "      <th>50%</th>\n",
       "      <th>75%</th>\n",
       "      <th>max</th>\n",
       "    </tr>\n",
       "  </thead>\n",
       "  <tbody>\n",
       "    <tr>\n",
       "      <th>Time</th>\n",
       "      <td>25.0</td>\n",
       "      <td>2.012000e+03</td>\n",
       "      <td>7.359801e+00</td>\n",
       "      <td>2.000000e+03</td>\n",
       "      <td>2.006000e+03</td>\n",
       "      <td>2.012000e+03</td>\n",
       "      <td>2.018000e+03</td>\n",
       "      <td>2.024000e+03</td>\n",
       "    </tr>\n",
       "    <tr>\n",
       "      <th>Inflation_rate</th>\n",
       "      <td>25.0</td>\n",
       "      <td>2.576392e+00</td>\n",
       "      <td>1.627764e+00</td>\n",
       "      <td>-3.555463e-01</td>\n",
       "      <td>1.622223e+00</td>\n",
       "      <td>2.442583e+00</td>\n",
       "      <td>3.225944e+00</td>\n",
       "      <td>8.002800e+00</td>\n",
       "    </tr>\n",
       "    <tr>\n",
       "      <th>Unemployment_rate</th>\n",
       "      <td>25.0</td>\n",
       "      <td>5.694720e+00</td>\n",
       "      <td>1.836783e+00</td>\n",
       "      <td>3.638000e+00</td>\n",
       "      <td>4.355000e+00</td>\n",
       "      <td>5.280000e+00</td>\n",
       "      <td>6.168000e+00</td>\n",
       "      <td>9.633000e+00</td>\n",
       "    </tr>\n",
       "    <tr>\n",
       "      <th>Tariffs</th>\n",
       "      <td>23.0</td>\n",
       "      <td>2.244348e+00</td>\n",
       "      <td>2.521869e+00</td>\n",
       "      <td>1.470000e+00</td>\n",
       "      <td>1.620000e+00</td>\n",
       "      <td>1.670000e+00</td>\n",
       "      <td>1.770000e+00</td>\n",
       "      <td>1.378000e+01</td>\n",
       "    </tr>\n",
       "    <tr>\n",
       "      <th>Labor_force</th>\n",
       "      <td>25.0</td>\n",
       "      <td>1.600806e+08</td>\n",
       "      <td>7.653333e+06</td>\n",
       "      <td>1.471399e+08</td>\n",
       "      <td>1.552670e+08</td>\n",
       "      <td>1.596828e+08</td>\n",
       "      <td>1.665651e+08</td>\n",
       "      <td>1.741736e+08</td>\n",
       "    </tr>\n",
       "    <tr>\n",
       "      <th>GDP_per_capita Groth_rate</th>\n",
       "      <td>25.0</td>\n",
       "      <td>1.404104e+00</td>\n",
       "      <td>1.787295e+00</td>\n",
       "      <td>-3.426832e+00</td>\n",
       "      <td>1.022666e+00</td>\n",
       "      <td>1.797350e+00</td>\n",
       "      <td>2.056766e+00</td>\n",
       "      <td>5.888341e+00</td>\n",
       "    </tr>\n",
       "  </tbody>\n",
       "</table>\n",
       "</div>"
      ],
      "text/plain": [
       "                           count          mean           std           min  \\\n",
       "Time                        25.0  2.012000e+03  7.359801e+00  2.000000e+03   \n",
       "Inflation_rate              25.0  2.576392e+00  1.627764e+00 -3.555463e-01   \n",
       "Unemployment_rate           25.0  5.694720e+00  1.836783e+00  3.638000e+00   \n",
       "Tariffs                     23.0  2.244348e+00  2.521869e+00  1.470000e+00   \n",
       "Labor_force                 25.0  1.600806e+08  7.653333e+06  1.471399e+08   \n",
       "GDP_per_capita Groth_rate   25.0  1.404104e+00  1.787295e+00 -3.426832e+00   \n",
       "\n",
       "                                    25%           50%           75%  \\\n",
       "Time                       2.006000e+03  2.012000e+03  2.018000e+03   \n",
       "Inflation_rate             1.622223e+00  2.442583e+00  3.225944e+00   \n",
       "Unemployment_rate          4.355000e+00  5.280000e+00  6.168000e+00   \n",
       "Tariffs                    1.620000e+00  1.670000e+00  1.770000e+00   \n",
       "Labor_force                1.552670e+08  1.596828e+08  1.665651e+08   \n",
       "GDP_per_capita Groth_rate  1.022666e+00  1.797350e+00  2.056766e+00   \n",
       "\n",
       "                                    max  \n",
       "Time                       2.024000e+03  \n",
       "Inflation_rate             8.002800e+00  \n",
       "Unemployment_rate          9.633000e+00  \n",
       "Tariffs                    1.378000e+01  \n",
       "Labor_force                1.741736e+08  \n",
       "GDP_per_capita Groth_rate  5.888341e+00  "
      ]
     },
     "execution_count": 22,
     "metadata": {},
     "output_type": "execute_result"
    }
   ],
   "source": [
    "#Lets do our data calculation\n",
    "data.describe().T"
   ]
  },
  {
   "cell_type": "code",
   "execution_count": 23,
   "id": "4eea7677",
   "metadata": {},
   "outputs": [],
   "source": [
    "#Lets replace the missing values with the mean for data processing. This will help preserve th data size,\n",
    "#it wont change the data mean.\n",
    "data.fillna(data.mean())\n",
    "data['Tariffs'].fillna((data['Tariffs'].mean()), inplace=True)"
   ]
  },
  {
   "cell_type": "code",
   "execution_count": 24,
   "id": "b2e87065",
   "metadata": {},
   "outputs": [
    {
     "data": {
      "text/plain": [
       "<bound method DataFrame.dropna of       Time  Inflation_rate  Unemployment_rate    Tariffs  Labor_force  \\\n",
       "0   2000.0        3.376857              3.992   2.100000  147139887.0   \n",
       "1   2001.0        2.826171              4.731   2.110000  148213470.0   \n",
       "2   2002.0        1.586032              5.783   2.160000  149241895.0   \n",
       "3   2003.0        2.270095              5.989   1.960000  149992325.0   \n",
       "4   2004.0        2.677237              5.529   1.790000  151218126.0   \n",
       "5   2005.0        3.392747              5.084   1.750000  153120588.0   \n",
       "6   2006.0        3.225944              4.623   1.700000  155267046.0   \n",
       "7   2007.0        2.852672              4.622   1.550000  156588966.0   \n",
       "8   2008.0        3.839100              5.784   1.580000  158272885.0   \n",
       "9   2009.0       -0.355546              9.254   1.710000  158353162.0   \n",
       "10  2010.0        1.640043              9.633   1.660000  158330168.0   \n",
       "11  2011.0        3.156842              8.949   1.670000  158537150.0   \n",
       "12  2012.0        2.069337              8.069   1.670000  159682753.0   \n",
       "13  2013.0        1.464833              7.375   1.670000  160132463.0   \n",
       "14  2014.0        1.622223              6.168   1.690000  160876331.0   \n",
       "15  2015.0        0.118627              5.280   1.690000  161927418.0   \n",
       "16  2016.0        1.261583              4.869   1.650000  163886456.0   \n",
       "17  2017.0        2.130110              4.355   1.660000  165597316.0   \n",
       "18  2018.0        2.442583              3.896   1.590000  166999339.0   \n",
       "19  2019.0        1.812210              3.669  13.780000  168920514.0   \n",
       "20  2020.0        1.233584              8.055   1.520000  166565059.0   \n",
       "21  2021.0        4.697859              5.349   1.470000  167182196.0   \n",
       "22  2022.0        8.002800              3.650   1.490000  169494100.0   \n",
       "23  2023.0        4.116338              3.638   2.244348  172300802.0   \n",
       "24  2024.0        2.949525              4.022   2.244348  174173594.0   \n",
       "\n",
       "    GDP_per_capita Groth_rate   target  \n",
       "0                    2.925863   Growth  \n",
       "1                   -0.038732  decline  \n",
       "2                    0.761237   Growth  \n",
       "3                    1.915882   Growth  \n",
       "4                    2.891111   Growth  \n",
       "5                    2.534111   Growth  \n",
       "6                    1.798199   Growth  \n",
       "7                    1.038344   Growth  \n",
       "8                   -0.828888  decline  \n",
       "9                   -3.426832  decline  \n",
       "10                   1.829924   Growth  \n",
       "11                   0.762796   Growth  \n",
       "12                   1.475706   Growth  \n",
       "13                   1.348163   Growth  \n",
       "14                   1.710945   Growth  \n",
       "15                   2.127411   Growth  \n",
       "16                   1.022666   Growth  \n",
       "17                   1.750141   Growth  \n",
       "18                   2.364442   Growth  \n",
       "19                   2.056766   Growth  \n",
       "20                  -2.561807  decline  \n",
       "21                   5.888341   Growth  \n",
       "22                   1.923862   Growth  \n",
       "23                   2.035600   Growth  \n",
       "24                   1.797350   Growth  >"
      ]
     },
     "execution_count": 24,
     "metadata": {},
     "output_type": "execute_result"
    }
   ],
   "source": [
    "#Lets remove any remaining nulls form the data\n",
    "data.dropna"
   ]
  },
  {
   "cell_type": "markdown",
   "id": "eafbcf76",
   "metadata": {
    "code_folding": []
   },
   "source": [
    "### Section 4: Data Visualization"
   ]
  },
  {
   "cell_type": "code",
   "execution_count": 25,
   "id": "7b9db5b2",
   "metadata": {},
   "outputs": [
    {
     "data": {
      "image/png": "[encoded data removed]",
      "text/plain": [
       "<Figure size 864x720 with 6 Axes>"
      ]
     },
     "metadata": {
      "needs_background": "light"
     },
     "output_type": "display_data"
    }
   ],
   "source": [
    "#lets Visualize the data\n",
    "data.hist(bins=25, figsize=(12, 10))\n",
    "plt.show()"
   ]
  },
  {
   "cell_type": "code",
   "execution_count": 26,
   "id": "5ecc4b82",
   "metadata": {},
   "outputs": [],
   "source": [
    "#lets look at the correlation between the features\n",
    "corr = data.corr()"
   ]
  },
  {
   "cell_type": "code",
   "execution_count": 27,
   "id": "665c9713",
   "metadata": {
    "scrolled": true
   },
   "outputs": [
    {
     "data": {
      "text/html": [
       "<style  type=\"text/css\" >\n",
       "#T_02e52_row0_col0,#T_02e52_row1_col1,#T_02e52_row2_col2,#T_02e52_row3_col3,#T_02e52_row4_col4,#T_02e52_row5_col5{\n",
       "            background-color:  #b40426;\n",
       "            color:  #f1f1f1;\n",
       "        }#T_02e52_row0_col1{\n",
       "            background-color:  #cdd9ec;\n",
       "            color:  #000000;\n",
       "        }#T_02e52_row0_col2{\n",
       "            background-color:  #7a9df8;\n",
       "            color:  #000000;\n",
       "        }#T_02e52_row0_col3{\n",
       "            background-color:  #adc9fd;\n",
       "            color:  #000000;\n",
       "        }#T_02e52_row0_col4,#T_02e52_row4_col0{\n",
       "            background-color:  #b70d28;\n",
       "            color:  #f1f1f1;\n",
       "        }#T_02e52_row0_col5{\n",
       "            background-color:  #c3d5f4;\n",
       "            color:  #000000;\n",
       "        }#T_02e52_row1_col0{\n",
       "            background-color:  #a2c1ff;\n",
       "            color:  #000000;\n",
       "        }#T_02e52_row1_col2{\n",
       "            background-color:  #3c4ec2;\n",
       "            color:  #f1f1f1;\n",
       "        }#T_02e52_row1_col3{\n",
       "            background-color:  #6180e9;\n",
       "            color:  #000000;\n",
       "        }#T_02e52_row1_col4{\n",
       "            background-color:  #a7c5fe;\n",
       "            color:  #000000;\n",
       "        }#T_02e52_row1_col5,#T_02e52_row5_col1{\n",
       "            background-color:  #f2c9b4;\n",
       "            color:  #000000;\n",
       "        }#T_02e52_row2_col0,#T_02e52_row2_col1,#T_02e52_row2_col3,#T_02e52_row2_col4,#T_02e52_row2_col5,#T_02e52_row5_col2{\n",
       "            background-color:  #3b4cc0;\n",
       "            color:  #f1f1f1;\n",
       "        }#T_02e52_row3_col0{\n",
       "            background-color:  #9ebeff;\n",
       "            color:  #000000;\n",
       "        }#T_02e52_row3_col1,#T_02e52_row5_col4{\n",
       "            background-color:  #8caffe;\n",
       "            color:  #000000;\n",
       "        }#T_02e52_row3_col2{\n",
       "            background-color:  #688aef;\n",
       "            color:  #000000;\n",
       "        }#T_02e52_row3_col4{\n",
       "            background-color:  #b1cbfc;\n",
       "            color:  #000000;\n",
       "        }#T_02e52_row3_col5{\n",
       "            background-color:  #b7cff9;\n",
       "            color:  #000000;\n",
       "        }#T_02e52_row4_col1{\n",
       "            background-color:  #ccd9ed;\n",
       "            color:  #000000;\n",
       "        }#T_02e52_row4_col2{\n",
       "            background-color:  #7396f5;\n",
       "            color:  #000000;\n",
       "        }#T_02e52_row4_col3{\n",
       "            background-color:  #b9d0f9;\n",
       "            color:  #000000;\n",
       "        }#T_02e52_row4_col5{\n",
       "            background-color:  #bad0f8;\n",
       "            color:  #000000;\n",
       "        }#T_02e52_row5_col0{\n",
       "            background-color:  #92b4fe;\n",
       "            color:  #000000;\n",
       "        }#T_02e52_row5_col3{\n",
       "            background-color:  #93b5fe;\n",
       "            color:  #000000;\n",
       "        }</style><table id=\"T_02e52_\" ><thead>    <tr>        <th class=\"blank level0\" ></th>        <th class=\"col_heading level0 col0\" >Time</th>        <th class=\"col_heading level0 col1\" >Inflation_rate</th>        <th class=\"col_heading level0 col2\" >Unemployment_rate</th>        <th class=\"col_heading level0 col3\" >Tariffs</th>        <th class=\"col_heading level0 col4\" >Labor_force</th>        <th class=\"col_heading level0 col5\" >GDP_per_capita Groth_rate</th>    </tr></thead><tbody>\n",
       "                <tr>\n",
       "                        <th id=\"T_02e52_level0_row0\" class=\"row_heading level0 row0\" >Time</th>\n",
       "                        <td id=\"T_02e52_row0_col0\" class=\"data row0 col0\" >1.000000</td>\n",
       "                        <td id=\"T_02e52_row0_col1\" class=\"data row0 col1\" >0.186214</td>\n",
       "                        <td id=\"T_02e52_row0_col2\" class=\"data row0 col2\" >-0.179487</td>\n",
       "                        <td id=\"T_02e52_row0_col3\" class=\"data row0 col3\" >0.174261</td>\n",
       "                        <td id=\"T_02e52_row0_col4\" class=\"data row0 col4\" >0.987738</td>\n",
       "                        <td id=\"T_02e52_row0_col5\" class=\"data row0 col5\" >0.130067</td>\n",
       "            </tr>\n",
       "            <tr>\n",
       "                        <th id=\"T_02e52_level0_row1\" class=\"row_heading level0 row1\" >Inflation_rate</th>\n",
       "                        <td id=\"T_02e52_row1_col0\" class=\"data row1 col0\" >0.186214</td>\n",
       "                        <td id=\"T_02e52_row1_col1\" class=\"data row1 col1\" >1.000000</td>\n",
       "                        <td id=\"T_02e52_row1_col2\" class=\"data row1 col2\" >-0.463121</td>\n",
       "                        <td id=\"T_02e52_row1_col3\" class=\"data row1 col3\" >-0.102408</td>\n",
       "                        <td id=\"T_02e52_row1_col4\" class=\"data row1 col4\" >0.182534</td>\n",
       "                        <td id=\"T_02e52_row1_col5\" class=\"data row1 col5\" >0.423812</td>\n",
       "            </tr>\n",
       "            <tr>\n",
       "                        <th id=\"T_02e52_level0_row2\" class=\"row_heading level0 row2\" >Unemployment_rate</th>\n",
       "                        <td id=\"T_02e52_row2_col0\" class=\"data row2 col0\" >-0.179487</td>\n",
       "                        <td id=\"T_02e52_row2_col1\" class=\"data row2 col1\" >-0.463121</td>\n",
       "                        <td id=\"T_02e52_row2_col2\" class=\"data row2 col2\" >1.000000</td>\n",
       "                        <td id=\"T_02e52_row2_col3\" class=\"data row2 col3\" >-0.256676</td>\n",
       "                        <td id=\"T_02e52_row2_col4\" class=\"data row2 col4\" >-0.211319</td>\n",
       "                        <td id=\"T_02e52_row2_col5\" class=\"data row2 col5\" >-0.470682</td>\n",
       "            </tr>\n",
       "            <tr>\n",
       "                        <th id=\"T_02e52_level0_row3\" class=\"row_heading level0 row3\" >Tariffs</th>\n",
       "                        <td id=\"T_02e52_row3_col0\" class=\"data row3 col0\" >0.174261</td>\n",
       "                        <td id=\"T_02e52_row3_col1\" class=\"data row3 col1\" >-0.102408</td>\n",
       "                        <td id=\"T_02e52_row3_col2\" class=\"data row3 col2\" >-0.256676</td>\n",
       "                        <td id=\"T_02e52_row3_col3\" class=\"data row3 col3\" >1.000000</td>\n",
       "                        <td id=\"T_02e52_row3_col4\" class=\"data row3 col4\" >0.219141</td>\n",
       "                        <td id=\"T_02e52_row3_col5\" class=\"data row3 col5\" >0.079421</td>\n",
       "            </tr>\n",
       "            <tr>\n",
       "                        <th id=\"T_02e52_level0_row4\" class=\"row_heading level0 row4\" >Labor_force</th>\n",
       "                        <td id=\"T_02e52_row4_col0\" class=\"data row4 col0\" >0.987738</td>\n",
       "                        <td id=\"T_02e52_row4_col1\" class=\"data row4 col1\" >0.182534</td>\n",
       "                        <td id=\"T_02e52_row4_col2\" class=\"data row4 col2\" >-0.211319</td>\n",
       "                        <td id=\"T_02e52_row4_col3\" class=\"data row4 col3\" >0.219141</td>\n",
       "                        <td id=\"T_02e52_row4_col4\" class=\"data row4 col4\" >1.000000</td>\n",
       "                        <td id=\"T_02e52_row4_col5\" class=\"data row4 col5\" >0.088024</td>\n",
       "            </tr>\n",
       "            <tr>\n",
       "                        <th id=\"T_02e52_level0_row5\" class=\"row_heading level0 row5\" >GDP_per_capita Groth_rate</th>\n",
       "                        <td id=\"T_02e52_row5_col0\" class=\"data row5 col0\" >0.130067</td>\n",
       "                        <td id=\"T_02e52_row5_col1\" class=\"data row5 col1\" >0.423812</td>\n",
       "                        <td id=\"T_02e52_row5_col2\" class=\"data row5 col2\" >-0.470682</td>\n",
       "                        <td id=\"T_02e52_row5_col3\" class=\"data row5 col3\" >0.079421</td>\n",
       "                        <td id=\"T_02e52_row5_col4\" class=\"data row5 col4\" >0.088024</td>\n",
       "                        <td id=\"T_02e52_row5_col5\" class=\"data row5 col5\" >1.000000</td>\n",
       "            </tr>\n",
       "    </tbody></table>"
      ],
      "text/plain": [
       "<pandas.io.formats.style.Styler at 0x7f9515e80220>"
      ]
     },
     "execution_count": 27,
     "metadata": {},
     "output_type": "execute_result"
    }
   ],
   "source": [
    "corr.style.background_gradient(cmap='coolwarm')"
   ]
  },
  {
   "cell_type": "markdown",
   "id": "95cae950",
   "metadata": {
    "code_folding": []
   },
   "source": [
    "### Question 1: Do tariffs affect direstly GDP per capita growth?\n",
    "#### Answer\n",
    "Tarrifs display a negative correlation with inflation and unemployment rate. \n",
    "We can understand that these metrics are inversely impacted by the rise and lowering of Tariffs on imported goods\n",
    "The relation of Tariffs and GDP per Capita growth could be indirectly related as the effect of tariffs on \n",
    "metric such as Inflation rate and Unemployment rate could impact the GDP per capita growth tremendously"
   ]
  },
  {
   "cell_type": "markdown",
   "id": "637638dd",
   "metadata": {},
   "source": [
    "### Question 2: What is the impact of tariffs on the labor market?\n",
    "\n",
    "#### Answer: \n",
    "Tariffs does not seem to have a significantly direct high impact on Labor force market. Although, looking at its impact on the unemployment rate we could depict that tariffs could derive a negative impact on the labor force market. "
   ]
  },
  {
   "cell_type": "markdown",
   "id": "d682db6f",
   "metadata": {},
   "source": [
    "### Question 3: What is the relation between Inflation and GDP per capita growth?\n",
    "\n",
    "#### Answer:\n",
    "\n",
    "Inflation rate has a relatively considerable relation to GDP per capita. As this impact could not be as impactful in number (0.42 Correlation), it could have a decision impact on it, because it influences the consumption rate which will have an impactful stain on the economy."
   ]
  },
  {
   "cell_type": "markdown",
   "id": "6c85ae6d",
   "metadata": {},
   "source": [
    "### Section 5: Modeling & Evaluation"
   ]
  },
  {
   "cell_type": "code",
   "execution_count": 28,
   "id": "30120e23",
   "metadata": {},
   "outputs": [],
   "source": [
    "# Split the data into features and labels\n",
    "X = data.drop(\"target\", axis=1)\n",
    "y = data[\"target\"]"
   ]
  },
  {
   "cell_type": "code",
   "execution_count": 29,
   "id": "a9b97a2a",
   "metadata": {},
   "outputs": [],
   "source": [
    "#Lets drop the Time column as it will not be necessary\n",
    "X = X.drop('Time', axis=1)"
   ]
  },
  {
   "cell_type": "code",
   "execution_count": 30,
   "id": "7c5fe387",
   "metadata": {},
   "outputs": [
    {
     "data": {
      "text/html": [
       "<div>\n",
       "<style scoped>\n",
       "    .dataframe tbody tr th:only-of-type {\n",
       "        vertical-align: middle;\n",
       "    }\n",
       "\n",
       "    .dataframe tbody tr th {\n",
       "        vertical-align: top;\n",
       "    }\n",
       "\n",
       "    .dataframe thead th {\n",
       "        text-align: right;\n",
       "    }\n",
       "</style>\n",
       "<table border=\"1\" class=\"dataframe\">\n",
       "  <thead>\n",
       "    <tr style=\"text-align: right;\">\n",
       "      <th></th>\n",
       "      <th>Inflation_rate</th>\n",
       "      <th>Unemployment_rate</th>\n",
       "      <th>Tariffs</th>\n",
       "      <th>Labor_force</th>\n",
       "      <th>GDP_per_capita Groth_rate</th>\n",
       "    </tr>\n",
       "  </thead>\n",
       "  <tbody>\n",
       "    <tr>\n",
       "      <th>0</th>\n",
       "      <td>3.376857</td>\n",
       "      <td>3.992</td>\n",
       "      <td>2.10</td>\n",
       "      <td>147139887.0</td>\n",
       "      <td>2.925863</td>\n",
       "    </tr>\n",
       "    <tr>\n",
       "      <th>1</th>\n",
       "      <td>2.826171</td>\n",
       "      <td>4.731</td>\n",
       "      <td>2.11</td>\n",
       "      <td>148213470.0</td>\n",
       "      <td>-0.038732</td>\n",
       "    </tr>\n",
       "    <tr>\n",
       "      <th>2</th>\n",
       "      <td>1.586032</td>\n",
       "      <td>5.783</td>\n",
       "      <td>2.16</td>\n",
       "      <td>149241895.0</td>\n",
       "      <td>0.761237</td>\n",
       "    </tr>\n",
       "    <tr>\n",
       "      <th>3</th>\n",
       "      <td>2.270095</td>\n",
       "      <td>5.989</td>\n",
       "      <td>1.96</td>\n",
       "      <td>149992325.0</td>\n",
       "      <td>1.915882</td>\n",
       "    </tr>\n",
       "    <tr>\n",
       "      <th>4</th>\n",
       "      <td>2.677237</td>\n",
       "      <td>5.529</td>\n",
       "      <td>1.79</td>\n",
       "      <td>151218126.0</td>\n",
       "      <td>2.891111</td>\n",
       "    </tr>\n",
       "  </tbody>\n",
       "</table>\n",
       "</div>"
      ],
      "text/plain": [
       "   Inflation_rate  Unemployment_rate  Tariffs  Labor_force  \\\n",
       "0        3.376857              3.992     2.10  147139887.0   \n",
       "1        2.826171              4.731     2.11  148213470.0   \n",
       "2        1.586032              5.783     2.16  149241895.0   \n",
       "3        2.270095              5.989     1.96  149992325.0   \n",
       "4        2.677237              5.529     1.79  151218126.0   \n",
       "\n",
       "   GDP_per_capita Groth_rate  \n",
       "0                   2.925863  \n",
       "1                  -0.038732  \n",
       "2                   0.761237  \n",
       "3                   1.915882  \n",
       "4                   2.891111  "
      ]
     },
     "execution_count": 30,
     "metadata": {},
     "output_type": "execute_result"
    }
   ],
   "source": [
    "X.head()  #Lets look at the X data"
   ]
  },
  {
   "cell_type": "code",
   "execution_count": 31,
   "id": "7f23a7dc",
   "metadata": {},
   "outputs": [],
   "source": [
    "#Lets drop Labor_force Column to reduce noise\n",
    "X = X.drop('Labor_force', axis= 1)"
   ]
  },
  {
   "cell_type": "code",
   "execution_count": 32,
   "id": "795e2f9b",
   "metadata": {},
   "outputs": [
    {
     "data": {
      "text/plain": [
       "0     Growth\n",
       "1    decline\n",
       "2     Growth\n",
       "3     Growth\n",
       "4     Growth\n",
       "Name: target, dtype: category\n",
       "Categories (3, object): ['Growth', 'decline', 'other']"
      ]
     },
     "execution_count": 32,
     "metadata": {},
     "output_type": "execute_result"
    }
   ],
   "source": [
    "y.head()  #Lets look at the y data"
   ]
  },
  {
   "cell_type": "code",
   "execution_count": 33,
   "id": "205e972b",
   "metadata": {},
   "outputs": [
    {
     "name": "stdout",
     "output_type": "stream",
     "text": [
      "(25, 4) (7, 4)\n"
     ]
    }
   ],
   "source": [
    "#Splitting the data into training and test set\n",
    "from sklearn.model_selection import train_test_split\n",
    "from sklearn.model_selection import train_test_split\n",
    "X_train, X_test, y_train, y_test = train_test_split(X, y, random_state=13)\n",
    "print(X.values.shape, X_test.shape)"
   ]
  },
  {
   "cell_type": "code",
   "execution_count": 34,
   "id": "ee54a481",
   "metadata": {},
   "outputs": [
    {
     "data": {
      "text/html": [
       "<style>#sk-container-id-1 {color: black;background-color: white;}#sk-container-id-1 pre{padding: 0;}#sk-container-id-1 div.sk-toggleable {background-color: white;}#sk-container-id-1 label.sk-toggleable__label {cursor: pointer;display: block;width: 100%;margin-bottom: 0;padding: 0.3em;box-sizing: border-box;text-align: center;}#sk-container-id-1 label.sk-toggleable__label-arrow:before {content: \"▸\";float: left;margin-right: 0.25em;color: #696969;}#sk-container-id-1 label.sk-toggleable__label-arrow:hover:before {color: black;}#sk-container-id-1 div.sk-estimator:hover label.sk-toggleable__label-arrow:before {color: black;}#sk-container-id-1 div.sk-toggleable__content {max-height: 0;max-width: 0;overflow: hidden;text-align: left;background-color: #f0f8ff;}#sk-container-id-1 div.sk-toggleable__content pre {margin: 0.2em;color: black;border-radius: 0.25em;background-color: #f0f8ff;}#sk-container-id-1 input.sk-toggleable__control:checked~div.sk-toggleable__content {max-height: 200px;max-width: 100%;overflow: auto;}#sk-container-id-1 input.sk-toggleable__control:checked~label.sk-toggleable__label-arrow:before {content: \"▾\";}#sk-container-id-1 div.sk-estimator input.sk-toggleable__control:checked~label.sk-toggleable__label {background-color: #d4ebff;}#sk-container-id-1 div.sk-label input.sk-toggleable__control:checked~label.sk-toggleable__label {background-color: #d4ebff;}#sk-container-id-1 input.sk-hidden--visually {border: 0;clip: rect(1px 1px 1px 1px);clip: rect(1px, 1px, 1px, 1px);height: 1px;margin: -1px;overflow: hidden;padding: 0;position: absolute;width: 1px;}#sk-container-id-1 div.sk-estimator {font-family: monospace;background-color: #f0f8ff;border: 1px dotted black;border-radius: 0.25em;box-sizing: border-box;margin-bottom: 0.5em;}#sk-container-id-1 div.sk-estimator:hover {background-color: #d4ebff;}#sk-container-id-1 div.sk-parallel-item::after {content: \"\";width: 100%;border-bottom: 1px solid gray;flex-grow: 1;}#sk-container-id-1 div.sk-label:hover label.sk-toggleable__label {background-color: #d4ebff;}#sk-container-id-1 div.sk-serial::before {content: \"\";position: absolute;border-left: 1px solid gray;box-sizing: border-box;top: 0;bottom: 0;left: 50%;z-index: 0;}#sk-container-id-1 div.sk-serial {display: flex;flex-direction: column;align-items: center;background-color: white;padding-right: 0.2em;padding-left: 0.2em;position: relative;}#sk-container-id-1 div.sk-item {position: relative;z-index: 1;}#sk-container-id-1 div.sk-parallel {display: flex;align-items: stretch;justify-content: center;background-color: white;position: relative;}#sk-container-id-1 div.sk-item::before, #sk-container-id-1 div.sk-parallel-item::before {content: \"\";position: absolute;border-left: 1px solid gray;box-sizing: border-box;top: 0;bottom: 0;left: 50%;z-index: -1;}#sk-container-id-1 div.sk-parallel-item {display: flex;flex-direction: column;z-index: 1;position: relative;background-color: white;}#sk-container-id-1 div.sk-parallel-item:first-child::after {align-self: flex-end;width: 50%;}#sk-container-id-1 div.sk-parallel-item:last-child::after {align-self: flex-start;width: 50%;}#sk-container-id-1 div.sk-parallel-item:only-child::after {width: 0;}#sk-container-id-1 div.sk-dashed-wrapped {border: 1px dashed gray;margin: 0 0.4em 0.5em 0.4em;box-sizing: border-box;padding-bottom: 0.4em;background-color: white;}#sk-container-id-1 div.sk-label label {font-family: monospace;font-weight: bold;display: inline-block;line-height: 1.2em;}#sk-container-id-1 div.sk-label-container {text-align: center;}#sk-container-id-1 div.sk-container {/* jupyter's `normalize.less` sets `[hidden] { display: none; }` but bootstrap.min.css set `[hidden] { display: none !important; }` so we also need the `!important` here to be able to override the default hidden behavior on the sphinx rendered scikit-learn.org. See: https://github.com/scikit-learn/scikit-learn/issues/21755 */display: inline-block !important;position: relative;}#sk-container-id-1 div.sk-text-repr-fallback {display: none;}</style><div id=\"sk-container-id-1\" class=\"sk-top-container\"><div class=\"sk-text-repr-fallback\"><pre>DecisionTreeClassifier(max_depth=8, min_samples_leaf=8, random_state=13)</pre><b>In a Jupyter environment, please rerun this cell to show the HTML representation or trust the notebook. <br />On GitHub, the HTML representation is unable to render, please try loading this page with nbviewer.org.</b></div><div class=\"sk-container\" hidden><div class=\"sk-item\"><div class=\"sk-estimator sk-toggleable\"><input class=\"sk-toggleable__control sk-hidden--visually\" id=\"sk-estimator-id-1\" type=\"checkbox\" checked><label for=\"sk-estimator-id-1\" class=\"sk-toggleable__label sk-toggleable__label-arrow\">DecisionTreeClassifier</label><div class=\"sk-toggleable__content\"><pre>DecisionTreeClassifier(max_depth=8, min_samples_leaf=8, random_state=13)</pre></div></div></div></div></div>"
      ],
      "text/plain": [
       "DecisionTreeClassifier(max_depth=8, min_samples_leaf=8, random_state=13)"
      ]
     },
     "execution_count": 34,
     "metadata": {},
     "output_type": "execute_result"
    }
   ],
   "source": [
    "# train a decision tree classifier\n",
    "from sklearn.tree import DecisionTreeClassifier\n",
    "from sklearn.tree import DecisionTreeClassifier\n",
    "model = DecisionTreeClassifier(max_depth=8, random_state=13, min_samples_leaf= 8)\n",
    "model.fit(X_train, y_train)"
   ]
  },
  {
   "cell_type": "code",
   "execution_count": 35,
   "id": "ed1eb342",
   "metadata": {},
   "outputs": [
    {
     "data": {
      "text/plain": [
       "[Text(0.5, 0.75, 'X[0] <= 2.1\\ngini = 0.198\\nsamples = 18\\nvalue = [16, 2]'),\n",
       " Text(0.25, 0.25, 'gini = 0.375\\nsamples = 8\\nvalue = [6, 2]'),\n",
       " Text(0.75, 0.25, 'gini = 0.0\\nsamples = 10\\nvalue = [10, 0]')]"
      ]
     },
     "execution_count": 35,
     "metadata": {},
     "output_type": "execute_result"
    },
    {
     "data": {
      "image/png": "[encoded data removed]",
      "text/plain": [
       "<Figure size 432x288 with 1 Axes>"
      ]
     },
     "metadata": {
      "needs_background": "light"
     },
     "output_type": "display_data"
    }
   ],
   "source": [
    "# plot the decision tree\n",
    "from sklearn.tree import plot_tree\n",
    "plot_tree(model, filled=True)"
   ]
  },
  {
   "cell_type": "code",
   "execution_count": 36,
   "id": "0a4c4f5a",
   "metadata": {},
   "outputs": [],
   "source": [
    "# make predictions\n",
    "y_pred_train = model.predict(X_train)\n",
    "y_pred_test = model.predict(X_test)"
   ]
  },
  {
   "cell_type": "code",
   "execution_count": 37,
   "id": "23640288",
   "metadata": {},
   "outputs": [
    {
     "name": "stdout",
     "output_type": "stream",
     "text": [
      "0.8888888888888888\n",
      "0.7142857142857143\n"
     ]
    }
   ],
   "source": [
    "# calculate accuracy on training and test set\n",
    "from sklearn.metrics import accuracy_score\n",
    "acc_train = accuracy_score(y_pred_train, y_train)\n",
    "acc_test = accuracy_score(y_pred_test, y_test)\n",
    "print(acc_train)\n",
    "print(acc_test)"
   ]
  },
  {
   "cell_type": "markdown",
   "id": "f7da7f4b",
   "metadata": {},
   "source": [
    "### With the score on the trainning set being slightly higher than the score on the test set. Lets keep exploring "
   ]
  },
  {
   "cell_type": "code",
   "execution_count": 38,
   "id": "6d3649c0",
   "metadata": {},
   "outputs": [
    {
     "name": "stdout",
     "output_type": "stream",
     "text": [
      "Score is = 0.41666666666666663\n"
     ]
    }
   ],
   "source": [
    "#Lets look at the Recall Score\n",
    "score = f1_score(y_test, y_pred_test, average='macro')\n",
    "\n",
    "print(\"Score is = {}\".format(score))"
   ]
  },
  {
   "cell_type": "markdown",
   "id": "0abcbdf0",
   "metadata": {},
   "source": [
    "### The recall score is fairly low, lets try to prune and use other metrics to improve the model"
   ]
  },
  {
   "cell_type": "code",
   "execution_count": 39,
   "id": "ba8958d0",
   "metadata": {},
   "outputs": [],
   "source": [
    "from sklearn.model_selection import KFold, cross_val_score #Lets bring in the cross validation function to improve the score"
   ]
  },
  {
   "cell_type": "code",
   "execution_count": 40,
   "id": "76c83119",
   "metadata": {},
   "outputs": [],
   "source": [
    "k_folds = KFold(n_splits = 5) #lets use the Kfolds function defintion and spliting option to prune the model\n",
    "\n",
    "scores = cross_val_score(model, X, y, cv = k_folds) #Lets look at the score"
   ]
  },
  {
   "cell_type": "code",
   "execution_count": 41,
   "id": "e1585a2b",
   "metadata": {},
   "outputs": [
    {
     "name": "stdout",
     "output_type": "stream",
     "text": [
      "Cross Validation Scores:  [0.8 0.6 1.  1.  0.8]\n",
      "Average CV Score:  0.8400000000000001\n",
      "Number of CV Scores used in Average:  5\n"
     ]
    }
   ],
   "source": [
    "#lets print the results\n",
    "print(\"Cross Validation Scores: \", scores)\n",
    "print(\"Average CV Score: \", scores.mean())\n",
    "print(\"Number of CV Scores used in Average: \", len(scores))"
   ]
  },
  {
   "cell_type": "markdown",
   "id": "13b51dd8",
   "metadata": {},
   "source": [
    "With hyperparameter and cross validation tunning the model still indicates Overfitting\n",
    "lets find other ways to enhance the model performance"
   ]
  },
  {
   "cell_type": "code",
   "execution_count": 42,
   "id": "98c8c236",
   "metadata": {},
   "outputs": [],
   "source": [
    "#Lets use Xgboost to improve the model"
   ]
  },
  {
   "cell_type": "code",
   "execution_count": 43,
   "id": "4c4d803f",
   "metadata": {},
   "outputs": [
    {
     "name": "stdout",
     "output_type": "stream",
     "text": [
      "Requirement already satisfied: Xgboost in /opt/anaconda3/lib/python3.8/site-packages (1.6.1)\n",
      "Requirement already satisfied: numpy in /opt/anaconda3/lib/python3.8/site-packages (from Xgboost) (1.20.1)\n",
      "Requirement already satisfied: scipy in /opt/anaconda3/lib/python3.8/site-packages (from Xgboost) (1.6.2)\n",
      "Note: you may need to restart the kernel to use updated packages.\n"
     ]
    }
   ],
   "source": [
    "#lets install Xgboost\n",
    "%pip install Xgboost"
   ]
  },
  {
   "cell_type": "code",
   "execution_count": 44,
   "id": "ebddf39c",
   "metadata": {},
   "outputs": [],
   "source": [
    "import xgboost as xgb #lets import the xgboost model library"
   ]
  },
  {
   "cell_type": "code",
   "execution_count": 45,
   "id": "ad483d0d",
   "metadata": {},
   "outputs": [],
   "source": [
    "#lets work on the data by reclassifying GDP per capita where: Growth = 1, and Decline = 0"
   ]
  },
  {
   "cell_type": "code",
   "execution_count": 46,
   "id": "faa044c8",
   "metadata": {},
   "outputs": [],
   "source": [
    "#Lets use a function to redifine the GDP per capita column to better fit the xgboost model analysis\n",
    "def f(GDP_per_capita_growth_catXG):\n",
    "    if GDP_per_capita_growth_catXG == 'decline': #if GPD per capita is decline return 0\n",
    "         return 0\n",
    "    elif GDP_per_capita_growth_catXG == 'Growth': #if GPD per capita is Growth return 1\n",
    "        return 1\n",
    "    else:\n",
    "        return 'other'    #if GPD per capita is anything else return other\n",
    "\n",
    "data['GDP_per_capita_growth_catXG'] = data['target'].apply(f)  #lets apply the function"
   ]
  },
  {
   "cell_type": "code",
   "execution_count": 47,
   "id": "a777c943",
   "metadata": {
    "scrolled": true
   },
   "outputs": [
    {
     "data": {
      "text/html": [
       "<div>\n",
       "<style scoped>\n",
       "    .dataframe tbody tr th:only-of-type {\n",
       "        vertical-align: middle;\n",
       "    }\n",
       "\n",
       "    .dataframe tbody tr th {\n",
       "        vertical-align: top;\n",
       "    }\n",
       "\n",
       "    .dataframe thead th {\n",
       "        text-align: right;\n",
       "    }\n",
       "</style>\n",
       "<table border=\"1\" class=\"dataframe\">\n",
       "  <thead>\n",
       "    <tr style=\"text-align: right;\">\n",
       "      <th></th>\n",
       "      <th>Time</th>\n",
       "      <th>Inflation_rate</th>\n",
       "      <th>Unemployment_rate</th>\n",
       "      <th>Tariffs</th>\n",
       "      <th>Labor_force</th>\n",
       "      <th>GDP_per_capita Groth_rate</th>\n",
       "      <th>target</th>\n",
       "      <th>GDP_per_capita_growth_catXG</th>\n",
       "    </tr>\n",
       "  </thead>\n",
       "  <tbody>\n",
       "    <tr>\n",
       "      <th>0</th>\n",
       "      <td>2000.0</td>\n",
       "      <td>3.376857</td>\n",
       "      <td>3.992</td>\n",
       "      <td>2.10</td>\n",
       "      <td>147139887.0</td>\n",
       "      <td>2.925863</td>\n",
       "      <td>Growth</td>\n",
       "      <td>1</td>\n",
       "    </tr>\n",
       "    <tr>\n",
       "      <th>1</th>\n",
       "      <td>2001.0</td>\n",
       "      <td>2.826171</td>\n",
       "      <td>4.731</td>\n",
       "      <td>2.11</td>\n",
       "      <td>148213470.0</td>\n",
       "      <td>-0.038732</td>\n",
       "      <td>decline</td>\n",
       "      <td>0</td>\n",
       "    </tr>\n",
       "    <tr>\n",
       "      <th>2</th>\n",
       "      <td>2002.0</td>\n",
       "      <td>1.586032</td>\n",
       "      <td>5.783</td>\n",
       "      <td>2.16</td>\n",
       "      <td>149241895.0</td>\n",
       "      <td>0.761237</td>\n",
       "      <td>Growth</td>\n",
       "      <td>1</td>\n",
       "    </tr>\n",
       "    <tr>\n",
       "      <th>3</th>\n",
       "      <td>2003.0</td>\n",
       "      <td>2.270095</td>\n",
       "      <td>5.989</td>\n",
       "      <td>1.96</td>\n",
       "      <td>149992325.0</td>\n",
       "      <td>1.915882</td>\n",
       "      <td>Growth</td>\n",
       "      <td>1</td>\n",
       "    </tr>\n",
       "    <tr>\n",
       "      <th>4</th>\n",
       "      <td>2004.0</td>\n",
       "      <td>2.677237</td>\n",
       "      <td>5.529</td>\n",
       "      <td>1.79</td>\n",
       "      <td>151218126.0</td>\n",
       "      <td>2.891111</td>\n",
       "      <td>Growth</td>\n",
       "      <td>1</td>\n",
       "    </tr>\n",
       "  </tbody>\n",
       "</table>\n",
       "</div>"
      ],
      "text/plain": [
       "     Time  Inflation_rate  Unemployment_rate  Tariffs  Labor_force  \\\n",
       "0  2000.0        3.376857              3.992     2.10  147139887.0   \n",
       "1  2001.0        2.826171              4.731     2.11  148213470.0   \n",
       "2  2002.0        1.586032              5.783     2.16  149241895.0   \n",
       "3  2003.0        2.270095              5.989     1.96  149992325.0   \n",
       "4  2004.0        2.677237              5.529     1.79  151218126.0   \n",
       "\n",
       "   GDP_per_capita Groth_rate   target GDP_per_capita_growth_catXG  \n",
       "0                   2.925863   Growth                           1  \n",
       "1                  -0.038732  decline                           0  \n",
       "2                   0.761237   Growth                           1  \n",
       "3                   1.915882   Growth                           1  \n",
       "4                   2.891111   Growth                           1  "
      ]
     },
     "execution_count": 47,
     "metadata": {},
     "output_type": "execute_result"
    }
   ],
   "source": [
    "data.head() #lets observe the change on the data"
   ]
  },
  {
   "cell_type": "code",
   "execution_count": 48,
   "id": "416d9fbb",
   "metadata": {},
   "outputs": [],
   "source": [
    "#lets change the column data type to categorical data\n",
    "#This will help with our analysis as the category data type helps with decision tree and XGB model\n",
    "data['GDP_per_capita_growth_catXG'] = data['GDP_per_capita_growth_catXG'].astype('category')"
   ]
  },
  {
   "cell_type": "code",
   "execution_count": 49,
   "id": "ada2f61b",
   "metadata": {},
   "outputs": [
    {
     "name": "stdout",
     "output_type": "stream",
     "text": [
      "<class 'pandas.core.frame.DataFrame'>\n",
      "Int64Index: 25 entries, 0 to 24\n",
      "Data columns (total 8 columns):\n",
      " #   Column                       Non-Null Count  Dtype   \n",
      "---  ------                       --------------  -----   \n",
      " 0   Time                         25 non-null     float64 \n",
      " 1   Inflation_rate               25 non-null     float64 \n",
      " 2   Unemployment_rate            25 non-null     float64 \n",
      " 3   Tariffs                      25 non-null     float64 \n",
      " 4   Labor_force                  25 non-null     float64 \n",
      " 5   GDP_per_capita Groth_rate    25 non-null     float64 \n",
      " 6   target                       25 non-null     category\n",
      " 7   GDP_per_capita_growth_catXG  25 non-null     category\n",
      "dtypes: category(2), float64(6)\n",
      "memory usage: 1.7 KB\n"
     ]
    }
   ],
   "source": [
    "#lets look at the data info \n",
    "data.info()"
   ]
  },
  {
   "cell_type": "code",
   "execution_count": 50,
   "id": "c7632ef6",
   "metadata": {},
   "outputs": [
    {
     "data": {
      "text/html": [
       "<style>#sk-container-id-2 {color: black;background-color: white;}#sk-container-id-2 pre{padding: 0;}#sk-container-id-2 div.sk-toggleable {background-color: white;}#sk-container-id-2 label.sk-toggleable__label {cursor: pointer;display: block;width: 100%;margin-bottom: 0;padding: 0.3em;box-sizing: border-box;text-align: center;}#sk-container-id-2 label.sk-toggleable__label-arrow:before {content: \"▸\";float: left;margin-right: 0.25em;color: #696969;}#sk-container-id-2 label.sk-toggleable__label-arrow:hover:before {color: black;}#sk-container-id-2 div.sk-estimator:hover label.sk-toggleable__label-arrow:before {color: black;}#sk-container-id-2 div.sk-toggleable__content {max-height: 0;max-width: 0;overflow: hidden;text-align: left;background-color: #f0f8ff;}#sk-container-id-2 div.sk-toggleable__content pre {margin: 0.2em;color: black;border-radius: 0.25em;background-color: #f0f8ff;}#sk-container-id-2 input.sk-toggleable__control:checked~div.sk-toggleable__content {max-height: 200px;max-width: 100%;overflow: auto;}#sk-container-id-2 input.sk-toggleable__control:checked~label.sk-toggleable__label-arrow:before {content: \"▾\";}#sk-container-id-2 div.sk-estimator input.sk-toggleable__control:checked~label.sk-toggleable__label {background-color: #d4ebff;}#sk-container-id-2 div.sk-label input.sk-toggleable__control:checked~label.sk-toggleable__label {background-color: #d4ebff;}#sk-container-id-2 input.sk-hidden--visually {border: 0;clip: rect(1px 1px 1px 1px);clip: rect(1px, 1px, 1px, 1px);height: 1px;margin: -1px;overflow: hidden;padding: 0;position: absolute;width: 1px;}#sk-container-id-2 div.sk-estimator {font-family: monospace;background-color: #f0f8ff;border: 1px dotted black;border-radius: 0.25em;box-sizing: border-box;margin-bottom: 0.5em;}#sk-container-id-2 div.sk-estimator:hover {background-color: #d4ebff;}#sk-container-id-2 div.sk-parallel-item::after {content: \"\";width: 100%;border-bottom: 1px solid gray;flex-grow: 1;}#sk-container-id-2 div.sk-label:hover label.sk-toggleable__label {background-color: #d4ebff;}#sk-container-id-2 div.sk-serial::before {content: \"\";position: absolute;border-left: 1px solid gray;box-sizing: border-box;top: 0;bottom: 0;left: 50%;z-index: 0;}#sk-container-id-2 div.sk-serial {display: flex;flex-direction: column;align-items: center;background-color: white;padding-right: 0.2em;padding-left: 0.2em;position: relative;}#sk-container-id-2 div.sk-item {position: relative;z-index: 1;}#sk-container-id-2 div.sk-parallel {display: flex;align-items: stretch;justify-content: center;background-color: white;position: relative;}#sk-container-id-2 div.sk-item::before, #sk-container-id-2 div.sk-parallel-item::before {content: \"\";position: absolute;border-left: 1px solid gray;box-sizing: border-box;top: 0;bottom: 0;left: 50%;z-index: -1;}#sk-container-id-2 div.sk-parallel-item {display: flex;flex-direction: column;z-index: 1;position: relative;background-color: white;}#sk-container-id-2 div.sk-parallel-item:first-child::after {align-self: flex-end;width: 50%;}#sk-container-id-2 div.sk-parallel-item:last-child::after {align-self: flex-start;width: 50%;}#sk-container-id-2 div.sk-parallel-item:only-child::after {width: 0;}#sk-container-id-2 div.sk-dashed-wrapped {border: 1px dashed gray;margin: 0 0.4em 0.5em 0.4em;box-sizing: border-box;padding-bottom: 0.4em;background-color: white;}#sk-container-id-2 div.sk-label label {font-family: monospace;font-weight: bold;display: inline-block;line-height: 1.2em;}#sk-container-id-2 div.sk-label-container {text-align: center;}#sk-container-id-2 div.sk-container {/* jupyter's `normalize.less` sets `[hidden] { display: none; }` but bootstrap.min.css set `[hidden] { display: none !important; }` so we also need the `!important` here to be able to override the default hidden behavior on the sphinx rendered scikit-learn.org. See: https://github.com/scikit-learn/scikit-learn/issues/21755 */display: inline-block !important;position: relative;}#sk-container-id-2 div.sk-text-repr-fallback {display: none;}</style><div id=\"sk-container-id-2\" class=\"sk-top-container\"><div class=\"sk-text-repr-fallback\"><pre>XGBClassifier(base_score=0.5, booster=&#x27;gbtree&#x27;, callbacks=None,\n",
       "              colsample_bylevel=1, colsample_bynode=1, colsample_bytree=1,\n",
       "              early_stopping_rounds=None, enable_categorical=True,\n",
       "              eval_metric=None, gamma=0, gpu_id=-1, grow_policy=&#x27;depthwise&#x27;,\n",
       "              importance_type=None, interaction_constraints=&#x27;&#x27;,\n",
       "              learning_rate=0.300000012, max_bin=256, max_cat_to_onehot=4,\n",
       "              max_delta_step=0, max_depth=6, max_leaves=0, min_child_weight=1,\n",
       "              missing=nan, monotone_constraints=&#x27;()&#x27;, n_estimators=100,\n",
       "              n_jobs=0, num_parallel_tree=1, predictor=&#x27;auto&#x27;, random_state=0,\n",
       "              reg_alpha=0, reg_lambda=1, ...)</pre><b>In a Jupyter environment, please rerun this cell to show the HTML representation or trust the notebook. <br />On GitHub, the HTML representation is unable to render, please try loading this page with nbviewer.org.</b></div><div class=\"sk-container\" hidden><div class=\"sk-item\"><div class=\"sk-estimator sk-toggleable\"><input class=\"sk-toggleable__control sk-hidden--visually\" id=\"sk-estimator-id-2\" type=\"checkbox\" checked><label for=\"sk-estimator-id-2\" class=\"sk-toggleable__label sk-toggleable__label-arrow\">XGBClassifier</label><div class=\"sk-toggleable__content\"><pre>XGBClassifier(base_score=0.5, booster=&#x27;gbtree&#x27;, callbacks=None,\n",
       "              colsample_bylevel=1, colsample_bynode=1, colsample_bytree=1,\n",
       "              early_stopping_rounds=None, enable_categorical=True,\n",
       "              eval_metric=None, gamma=0, gpu_id=-1, grow_policy=&#x27;depthwise&#x27;,\n",
       "              importance_type=None, interaction_constraints=&#x27;&#x27;,\n",
       "              learning_rate=0.300000012, max_bin=256, max_cat_to_onehot=4,\n",
       "              max_delta_step=0, max_depth=6, max_leaves=0, min_child_weight=1,\n",
       "              missing=nan, monotone_constraints=&#x27;()&#x27;, n_estimators=100,\n",
       "              n_jobs=0, num_parallel_tree=1, predictor=&#x27;auto&#x27;, random_state=0,\n",
       "              reg_alpha=0, reg_lambda=1, ...)</pre></div></div></div></div></div>"
      ],
      "text/plain": [
       "XGBClassifier(base_score=0.5, booster='gbtree', callbacks=None,\n",
       "              colsample_bylevel=1, colsample_bynode=1, colsample_bytree=1,\n",
       "              early_stopping_rounds=None, enable_categorical=True,\n",
       "              eval_metric=None, gamma=0, gpu_id=-1, grow_policy='depthwise',\n",
       "              importance_type=None, interaction_constraints='',\n",
       "              learning_rate=0.300000012, max_bin=256, max_cat_to_onehot=4,\n",
       "              max_delta_step=0, max_depth=6, max_leaves=0, min_child_weight=1,\n",
       "              missing=nan, monotone_constraints='()', n_estimators=100,\n",
       "              n_jobs=0, num_parallel_tree=1, predictor='auto', random_state=0,\n",
       "              reg_alpha=0, reg_lambda=1, ...)"
      ]
     },
     "execution_count": 50,
     "metadata": {},
     "output_type": "execute_result"
    }
   ],
   "source": [
    "# Split into X and y, drop the target variable from X and convert y to binary\n",
    "y1 = data['target'].map({'decline': 0, 'Growth': 1})\n",
    "X1 = data.drop('target', axis=1)\n",
    "\n",
    "X1_train, X1_test, y1_train, y1_test = train_test_split(X1, y1, random_state=13)\n",
    "\n",
    "# Initialize XGBoost classifier\n",
    "model1 = xgb.XGBClassifier(enable_categorical=True, tree_method='hist')\n",
    "\n",
    "# Fit the model\n",
    "model1.fit(X1_train, y1_train)"
   ]
  },
  {
   "cell_type": "code",
   "execution_count": 51,
   "id": "fdc59ede",
   "metadata": {},
   "outputs": [
    {
     "data": {
      "text/plain": [
       "0.8888888888888888"
      ]
     },
     "execution_count": 51,
     "metadata": {},
     "output_type": "execute_result"
    }
   ],
   "source": [
    "#Lets look at the score on the training set\n",
    "model1.score(X1_train, y1_train)"
   ]
  },
  {
   "cell_type": "code",
   "execution_count": 52,
   "id": "56faf8d1",
   "metadata": {},
   "outputs": [
    {
     "data": {
      "text/plain": [
       "0.7142857142857143"
      ]
     },
     "execution_count": 52,
     "metadata": {},
     "output_type": "execute_result"
    }
   ],
   "source": [
    "#lets look at the score on the test set\n",
    "model1.score(X1_test, y1_test)"
   ]
  },
  {
   "cell_type": "code",
   "execution_count": 53,
   "id": "d1332211",
   "metadata": {},
   "outputs": [],
   "source": [
    "from xgboost import XGBClassifier #lets import the XGBclassifir"
   ]
  },
  {
   "cell_type": "markdown",
   "id": "5aa5cdb2",
   "metadata": {},
   "source": [
    "### Observation: \n",
    "After continuous tuning of the model the score of the model is still the same therefore this is the best this model can perform."
   ]
  },
  {
   "cell_type": "code",
   "execution_count": 54,
   "id": "07fd37ea",
   "metadata": {},
   "outputs": [
    {
     "data": {
      "text/html": [
       "<style>#sk-container-id-3 {color: black;background-color: white;}#sk-container-id-3 pre{padding: 0;}#sk-container-id-3 div.sk-toggleable {background-color: white;}#sk-container-id-3 label.sk-toggleable__label {cursor: pointer;display: block;width: 100%;margin-bottom: 0;padding: 0.3em;box-sizing: border-box;text-align: center;}#sk-container-id-3 label.sk-toggleable__label-arrow:before {content: \"▸\";float: left;margin-right: 0.25em;color: #696969;}#sk-container-id-3 label.sk-toggleable__label-arrow:hover:before {color: black;}#sk-container-id-3 div.sk-estimator:hover label.sk-toggleable__label-arrow:before {color: black;}#sk-container-id-3 div.sk-toggleable__content {max-height: 0;max-width: 0;overflow: hidden;text-align: left;background-color: #f0f8ff;}#sk-container-id-3 div.sk-toggleable__content pre {margin: 0.2em;color: black;border-radius: 0.25em;background-color: #f0f8ff;}#sk-container-id-3 input.sk-toggleable__control:checked~div.sk-toggleable__content {max-height: 200px;max-width: 100%;overflow: auto;}#sk-container-id-3 input.sk-toggleable__control:checked~label.sk-toggleable__label-arrow:before {content: \"▾\";}#sk-container-id-3 div.sk-estimator input.sk-toggleable__control:checked~label.sk-toggleable__label {background-color: #d4ebff;}#sk-container-id-3 div.sk-label input.sk-toggleable__control:checked~label.sk-toggleable__label {background-color: #d4ebff;}#sk-container-id-3 input.sk-hidden--visually {border: 0;clip: rect(1px 1px 1px 1px);clip: rect(1px, 1px, 1px, 1px);height: 1px;margin: -1px;overflow: hidden;padding: 0;position: absolute;width: 1px;}#sk-container-id-3 div.sk-estimator {font-family: monospace;background-color: #f0f8ff;border: 1px dotted black;border-radius: 0.25em;box-sizing: border-box;margin-bottom: 0.5em;}#sk-container-id-3 div.sk-estimator:hover {background-color: #d4ebff;}#sk-container-id-3 div.sk-parallel-item::after {content: \"\";width: 100%;border-bottom: 1px solid gray;flex-grow: 1;}#sk-container-id-3 div.sk-label:hover label.sk-toggleable__label {background-color: #d4ebff;}#sk-container-id-3 div.sk-serial::before {content: \"\";position: absolute;border-left: 1px solid gray;box-sizing: border-box;top: 0;bottom: 0;left: 50%;z-index: 0;}#sk-container-id-3 div.sk-serial {display: flex;flex-direction: column;align-items: center;background-color: white;padding-right: 0.2em;padding-left: 0.2em;position: relative;}#sk-container-id-3 div.sk-item {position: relative;z-index: 1;}#sk-container-id-3 div.sk-parallel {display: flex;align-items: stretch;justify-content: center;background-color: white;position: relative;}#sk-container-id-3 div.sk-item::before, #sk-container-id-3 div.sk-parallel-item::before {content: \"\";position: absolute;border-left: 1px solid gray;box-sizing: border-box;top: 0;bottom: 0;left: 50%;z-index: -1;}#sk-container-id-3 div.sk-parallel-item {display: flex;flex-direction: column;z-index: 1;position: relative;background-color: white;}#sk-container-id-3 div.sk-parallel-item:first-child::after {align-self: flex-end;width: 50%;}#sk-container-id-3 div.sk-parallel-item:last-child::after {align-self: flex-start;width: 50%;}#sk-container-id-3 div.sk-parallel-item:only-child::after {width: 0;}#sk-container-id-3 div.sk-dashed-wrapped {border: 1px dashed gray;margin: 0 0.4em 0.5em 0.4em;box-sizing: border-box;padding-bottom: 0.4em;background-color: white;}#sk-container-id-3 div.sk-label label {font-family: monospace;font-weight: bold;display: inline-block;line-height: 1.2em;}#sk-container-id-3 div.sk-label-container {text-align: center;}#sk-container-id-3 div.sk-container {/* jupyter's `normalize.less` sets `[hidden] { display: none; }` but bootstrap.min.css set `[hidden] { display: none !important; }` so we also need the `!important` here to be able to override the default hidden behavior on the sphinx rendered scikit-learn.org. See: https://github.com/scikit-learn/scikit-learn/issues/21755 */display: inline-block !important;position: relative;}#sk-container-id-3 div.sk-text-repr-fallback {display: none;}</style><div id=\"sk-container-id-3\" class=\"sk-top-container\"><div class=\"sk-text-repr-fallback\"><pre>XGBClassifier(base_score=0.5, booster=&#x27;gbtree&#x27;, callbacks=None,\n",
       "              colsample_bylevel=1, colsample_bynode=1, colsample_bytree=1,\n",
       "              early_stopping_rounds=None, enable_categorical=True,\n",
       "              eval_metric=&#x27;logloss&#x27;, gamma=5, gpu_id=-1,\n",
       "              grow_policy=&#x27;depthwise&#x27;, importance_type=None,\n",
       "              interaction_constraints=&#x27;&#x27;, learning_rate=0.1, max_bin=256,\n",
       "              max_cat_to_onehot=4, max_delta_step=0, max_depth=6, max_leaves=0,\n",
       "              min_child_weight=1, missing=nan, monotone_constraints=&#x27;()&#x27;,\n",
       "              n_estimators=250, n_jobs=0, num_parallel_tree=1, predictor=&#x27;auto&#x27;,\n",
       "              random_state=1, reg_alpha=0, reg_lambda=1, ...)</pre><b>In a Jupyter environment, please rerun this cell to show the HTML representation or trust the notebook. <br />On GitHub, the HTML representation is unable to render, please try loading this page with nbviewer.org.</b></div><div class=\"sk-container\" hidden><div class=\"sk-item\"><div class=\"sk-estimator sk-toggleable\"><input class=\"sk-toggleable__control sk-hidden--visually\" id=\"sk-estimator-id-3\" type=\"checkbox\" checked><label for=\"sk-estimator-id-3\" class=\"sk-toggleable__label sk-toggleable__label-arrow\">XGBClassifier</label><div class=\"sk-toggleable__content\"><pre>XGBClassifier(base_score=0.5, booster=&#x27;gbtree&#x27;, callbacks=None,\n",
       "              colsample_bylevel=1, colsample_bynode=1, colsample_bytree=1,\n",
       "              early_stopping_rounds=None, enable_categorical=True,\n",
       "              eval_metric=&#x27;logloss&#x27;, gamma=5, gpu_id=-1,\n",
       "              grow_policy=&#x27;depthwise&#x27;, importance_type=None,\n",
       "              interaction_constraints=&#x27;&#x27;, learning_rate=0.1, max_bin=256,\n",
       "              max_cat_to_onehot=4, max_delta_step=0, max_depth=6, max_leaves=0,\n",
       "              min_child_weight=1, missing=nan, monotone_constraints=&#x27;()&#x27;,\n",
       "              n_estimators=250, n_jobs=0, num_parallel_tree=1, predictor=&#x27;auto&#x27;,\n",
       "              random_state=1, reg_alpha=0, reg_lambda=1, ...)</pre></div></div></div></div></div>"
      ],
      "text/plain": [
       "XGBClassifier(base_score=0.5, booster='gbtree', callbacks=None,\n",
       "              colsample_bylevel=1, colsample_bynode=1, colsample_bytree=1,\n",
       "              early_stopping_rounds=None, enable_categorical=True,\n",
       "              eval_metric='logloss', gamma=5, gpu_id=-1,\n",
       "              grow_policy='depthwise', importance_type=None,\n",
       "              interaction_constraints='', learning_rate=0.1, max_bin=256,\n",
       "              max_cat_to_onehot=4, max_delta_step=0, max_depth=6, max_leaves=0,\n",
       "              min_child_weight=1, missing=nan, monotone_constraints='()',\n",
       "              n_estimators=250, n_jobs=0, num_parallel_tree=1, predictor='auto',\n",
       "              random_state=1, reg_alpha=0, reg_lambda=1, ...)"
      ]
     },
     "execution_count": 54,
     "metadata": {},
     "output_type": "execute_result"
    }
   ],
   "source": [
    "#lets tune the xgb model to improve\n",
    "model2 = xgb.XGBClassifier(\n",
    "    random_state=1,\n",
    "    eval_metric=\"logloss\",\n",
    "    subsample=0.8,\n",
    "    scale_pos_weight=10,\n",
    "    n_estimators=250,\n",
    "    learning_rate=0.1,\n",
    "    gamma=5,\n",
    "    enable_categorical=True,\n",
    "    tree_method='hist'\n",
    ")## code with the best parameters obtained from tuning\n",
    "\n",
    "model2.fit(X1_train, y1_train) ##code to fit the model on over sampled data"
   ]
  },
  {
   "cell_type": "code",
   "execution_count": 55,
   "id": "6b44f8cb",
   "metadata": {},
   "outputs": [
    {
     "data": {
      "text/plain": [
       "0.8888888888888888"
      ]
     },
     "execution_count": 55,
     "metadata": {},
     "output_type": "execute_result"
    }
   ],
   "source": [
    "#lets look at the score on training\n",
    "model2.score(X1_train, y1_train)"
   ]
  },
  {
   "cell_type": "code",
   "execution_count": 56,
   "id": "79a69b10",
   "metadata": {},
   "outputs": [
    {
     "data": {
      "text/plain": [
       "0.7142857142857143"
      ]
     },
     "execution_count": 56,
     "metadata": {},
     "output_type": "execute_result"
    }
   ],
   "source": [
    "#lets look at the test\n",
    "model2.score(X1_test, y1_test)"
   ]
  },
  {
   "cell_type": "code",
   "execution_count": 57,
   "id": "0e83236b",
   "metadata": {},
   "outputs": [],
   "source": [
    "#Let's get prediction\n",
    "y1_pred = model2.predict(X1)"
   ]
  },
  {
   "cell_type": "code",
   "execution_count": 58,
   "id": "ba853046",
   "metadata": {},
   "outputs": [
    {
     "name": "stdout",
     "output_type": "stream",
     "text": [
      "Score is = 0.4565217391304348\n"
     ]
    }
   ],
   "source": [
    "#Lets look at the Score\n",
    "score = f1_score(y1, y1_pred, average='macro')\n",
    "\n",
    "print(\"Score is = {}\".format(score))"
   ]
  },
  {
   "cell_type": "markdown",
   "id": "60155ca7",
   "metadata": {},
   "source": [
    "### Observation\n",
    "\n",
    "After conducting multiple pruning, 71% is the best our models can do on the test data. \n",
    "There has been a slightly improvement on the recall score."
   ]
  },
  {
   "cell_type": "markdown",
   "id": "a40efde9",
   "metadata": {},
   "source": [
    "### 6. Conclusion\n",
    "\n",
    "The model continuously sugests overfitting after hyperparameter tuning and some future engineering. Perhaps more sampling of the data could help the model to perform better."
   ]
  }
 ],
 "metadata": {
  "kernelspec": {
   "display_name": "Python 3",
   "language": "python",
   "name": "python3"
  },
  "language_info": {
   "codemirror_mode": {
    "name": "ipython",
    "version": 3
   },
   "file_extension": ".py",
   "mimetype": "text/x-python",
   "name": "python",
   "nbconvert_exporter": "python",
   "pygments_lexer": "ipython3",
   "version": "3.8.8"
  }
 },
 "nbformat": 4,
 "nbformat_minor": 5
}
